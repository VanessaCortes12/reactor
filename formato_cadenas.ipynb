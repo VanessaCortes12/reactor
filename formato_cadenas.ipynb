{
 "cells": [
  {
   "attachments": {},
   "cell_type": "markdown",
   "metadata": {},
   "source": [
    "# Formato de cadenas en Python\n",
    "\n",
    "Además de transformar texto y realizar operaciones básicas, como buscar y buscar coincidencias, es esencial dar formato al texto al presentar información. La manera más sencilla de presentar información de texto con Python consiste en usar la función print(). Comprobará que es fundamental incluir información en variables y otras estructuras de datos en cadenas que print() pueda usar.\n",
    "\n",
    "En esta unidad, aprenderá varias maneras válidas de incluir valores de variable en el texto mediante Python."
   ]
  },
  {
   "attachments": {},
   "cell_type": "markdown",
   "metadata": {},
   "source": [
    "Formato de signo de porcentaje (%)\n",
    "El marcador de posición de la variable de la cadena es %s. Después de la cadena, use otro carácter % seguido del nombre de la variable. En el ejemplo siguiente, se muestra cómo dar formato mediante el carácter %:"
   ]
  },
  {
   "cell_type": "code",
   "execution_count": 2,
   "metadata": {},
   "outputs": [
    {
     "name": "stdout",
     "output_type": "stream",
     "text": [
      "On the Moon, you would weigh about 1/6 of your weight on Earth\n",
      "Both sides of the Moon get the same amount of sunlight, ... but only one side is seen from Earth because\n",
      "... the Moon rotates around its own axis when it orbits Earth.\n"
     ]
    }
   ],
   "source": [
    "mass_percentage = \"1/6\" \n",
    "print(\"On the Moon, you would weigh about %s of your weight on Earth\" % mass_percentage)\n",
    "\n",
    "\n",
    "print(\"\"\"Both sides of the %s get the same amount of sunlight, ... but only one side is seen from %s because\n",
    "... the %s rotates around its own axis when it orbits %s.\"\"\" % (\"Moon\", \"Earth\", \"Moon\", \"Earth\"))"
   ]
  },
  {
   "attachments": {},
   "cell_type": "markdown",
   "metadata": {},
   "source": [
    "Aunque este método sigue siendo una manera válida de dar formato a las cadenas, puede provocar errores y reducir la claridad del código cuando se trabaja con varias variables. Cualquiera de las otras dos opciones de formato descritas en esta unidad sería más adecuada para este propósito."
   ]
  },
  {
   "attachments": {},
   "cell_type": "markdown",
   "metadata": {},
   "source": [
    "# El método format()\n",
    "El método .format() usa llaves ({}) como marcadores de posición dentro de una cadena y utiliza la asignación de variables para reemplazar texto."
   ]
  },
  {
   "cell_type": "code",
   "execution_count": 36,
   "metadata": {},
   "outputs": [
    {
     "ename": "TypeError",
     "evalue": "'str' object is not callable",
     "output_type": "error",
     "traceback": [
      "\u001b[1;31m---------------------------------------------------------------------------\u001b[0m",
      "\u001b[1;31mTypeError\u001b[0m                                 Traceback (most recent call last)",
      "\u001b[1;32md:\\Archivos personales\\MES DE DATOS\\demoreactor\\formato_cadenas.ipynb Celda 6\u001b[0m in \u001b[0;36m<module>\u001b[1;34m\u001b[0m\n\u001b[0;32m      <a href='vscode-notebook-cell:/d%3A/Archivos%20personales/MES%20DE%20DATOS/demoreactor/formato_cadenas.ipynb#W0sZmlsZQ%3D%3D?line=1'>2</a>\u001b[0m moon \u001b[39m=\u001b[39m \u001b[39m\"\u001b[39m\u001b[39mMoon\u001b[39m\u001b[39m\"\u001b[39m\n\u001b[0;32m      <a href='vscode-notebook-cell:/d%3A/Archivos%20personales/MES%20DE%20DATOS/demoreactor/formato_cadenas.ipynb#W0sZmlsZQ%3D%3D?line=2'>3</a>\u001b[0m text \u001b[39m=\u001b[39m \u001b[39m\"\"\"\u001b[39m\u001b[39mYou are lighter on the \u001b[39m\u001b[39m{moon}\u001b[39;00m\u001b[39m, because on the \u001b[39m\u001b[39m{moon}\u001b[39;00m\u001b[39m \u001b[39m\n\u001b[0;32m      <a href='vscode-notebook-cell:/d%3A/Archivos%20personales/MES%20DE%20DATOS/demoreactor/formato_cadenas.ipynb#W0sZmlsZQ%3D%3D?line=3'>4</a>\u001b[0m \u001b[39m... you would weigh about \u001b[39m\u001b[39m{mass_percentage}\u001b[39;00m\u001b[39m of your weight on Earth\u001b[39m\u001b[39m\"\"\"\u001b[39m\n\u001b[1;32m----> <a href='vscode-notebook-cell:/d%3A/Archivos%20personales/MES%20DE%20DATOS/demoreactor/formato_cadenas.ipynb#W0sZmlsZQ%3D%3D?line=4'>5</a>\u001b[0m \u001b[39mprint\u001b[39;49m(text\u001b[39m.\u001b[39;49mformat(moon\u001b[39m=\u001b[39;49mmoon, mass_percentage\u001b[39m=\u001b[39;49mmass_percentage))\n",
      "\u001b[1;31mTypeError\u001b[0m: 'str' object is not callable"
     ]
    }
   ],
   "source": [
    "mass_percentage = \"1/6\" \n",
    "moon = \"Moon\"\n",
    "text = \"\"\"You are lighter on the {moon}, because on the {moon} \n",
    "... you would weigh about {mass_percentage} of your weight on Earth\"\"\"\n",
    "print(text.format(moon=moon, mass_percentage=mass_percentage))"
   ]
  },
  {
   "attachments": {},
   "cell_type": "markdown",
   "metadata": {},
   "source": [
    "En lugar de llaves vacías, la sustitución consiste en usar números. {0} significa usar el primer argumento (índice cero) de .format(), que en este caso es Moon. {0} funciona bien para una repetición simple, pero reduce la legibilidad. Para mejorar la legibilidad, use argumentos de palabra clave en .format() y, después, haga referencia a los mismos argumentos entre llaves:"
   ]
  },
  {
   "cell_type": "code",
   "execution_count": 29,
   "metadata": {},
   "outputs": [
    {
     "ename": "TypeError",
     "evalue": "'str' object is not callable",
     "output_type": "error",
     "traceback": [
      "\u001b[1;31m---------------------------------------------------------------------------\u001b[0m",
      "\u001b[1;31mTypeError\u001b[0m                                 Traceback (most recent call last)",
      "\u001b[1;32md:\\Archivos personales\\MES DE DATOS\\demoreactor\\formato_cadenas.ipynb Celda 8\u001b[0m in \u001b[0;36m<module>\u001b[1;34m\u001b[0m\n\u001b[1;32m----> <a href='vscode-notebook-cell:/d%3A/Archivos%20personales/MES%20DE%20DATOS/demoreactor/formato_cadenas.ipynb#X12sZmlsZQ%3D%3D?line=0'>1</a>\u001b[0m \u001b[39mprint\u001b[39;49m(\u001b[39m\"\"\"\u001b[39;49m\u001b[39mYou are lighter on the \u001b[39;49m\u001b[39m{moon}\u001b[39;49;00m\u001b[39m, because on the \u001b[39;49m\u001b[39m{moon}\u001b[39;49;00m\u001b[39m \u001b[39;49m\n\u001b[0;32m      <a href='vscode-notebook-cell:/d%3A/Archivos%20personales/MES%20DE%20DATOS/demoreactor/formato_cadenas.ipynb#X12sZmlsZQ%3D%3D?line=1'>2</a>\u001b[0m \u001b[39myou would weigh about \u001b[39;49m\u001b[39m{mass}\u001b[39;49;00m\u001b[39m of your weight on Earth\u001b[39;49m\u001b[39m\"\"\"\u001b[39;49m\u001b[39m.\u001b[39;49mformat(moon\u001b[39m=\u001b[39;49m\u001b[39m\"\u001b[39;49m\u001b[39mMoon\u001b[39;49m\u001b[39m\"\u001b[39;49m, mass\u001b[39m=\u001b[39;49mmass_percentage))\n",
      "\u001b[1;31mTypeError\u001b[0m: 'str' object is not callable"
     ]
    }
   ],
   "source": [
    "print(\"\"\"You are lighter on the {moon}, because on the {moon} \n",
    "... you would weigh about {mass} of your weight on Earth\"\"\".format(moon=\"Moon\", mass=mass_percentage))"
   ]
  },
  {
   "attachments": {},
   "cell_type": "markdown",
   "metadata": {},
   "source": [
    "# Acerca de las cadenas f-strings\n",
    "A partir de la versión 3.6 de Python, es posible usar f-strings. Estas cadenas parecen plantillas y usan los nombres de variable del código. El uso de f-strings en el ejemplo anterior tendría el siguiente aspecto:"
   ]
  },
  {
   "cell_type": "code",
   "execution_count": 30,
   "metadata": {},
   "outputs": [
    {
     "ename": "TypeError",
     "evalue": "'str' object is not callable",
     "output_type": "error",
     "traceback": [
      "\u001b[1;31m---------------------------------------------------------------------------\u001b[0m",
      "\u001b[1;31mTypeError\u001b[0m                                 Traceback (most recent call last)",
      "\u001b[1;32md:\\Archivos personales\\MES DE DATOS\\demoreactor\\formato_cadenas.ipynb Celda 10\u001b[0m in \u001b[0;36m<module>\u001b[1;34m\u001b[0m\n\u001b[1;32m----> <a href='vscode-notebook-cell:/d%3A/Archivos%20personales/MES%20DE%20DATOS/demoreactor/formato_cadenas.ipynb#X13sZmlsZQ%3D%3D?line=0'>1</a>\u001b[0m \u001b[39mprint\u001b[39;49m(\u001b[39mf\u001b[39;49m\u001b[39m\"\u001b[39;49m\u001b[39mOn the Moon, you would weigh about \u001b[39;49m\u001b[39m{\u001b[39;49;00mmass_percentage\u001b[39m}\u001b[39;49;00m\u001b[39m of your weight on Earth\u001b[39;49m\u001b[39m\"\u001b[39;49m)\n",
      "\u001b[1;31mTypeError\u001b[0m: 'str' object is not callable"
     ]
    }
   ],
   "source": [
    "print(f\"On the Moon, you would weigh about {mass_percentage} of your weight on Earth\")"
   ]
  },
  {
   "attachments": {},
   "cell_type": "markdown",
   "metadata": {},
   "source": [
    "Las variables se incluyen entre llaves y la cadena debe usar el prefijo f.\n",
    "\n",
    "Además de que las f-strings son menos detalladas que cualquier otra opción de formato, es posible usar expresiones entre llaves. Estas expresiones pueden ser funciones u operaciones directas. Por ejemplo, si quiere representar el valor 1/6 como un porcentaje con una posición decimal, puede usar directamente la función round():"
   ]
  },
  {
   "cell_type": "code",
   "execution_count": 31,
   "metadata": {},
   "outputs": [
    {
     "ename": "SyntaxError",
     "evalue": "invalid syntax (1967446895.py, line 4)",
     "output_type": "error",
     "traceback": [
      "\u001b[1;36m  Input \u001b[1;32mIn [31]\u001b[1;36m\u001b[0m\n\u001b[1;33m    On the Moon, you would weigh about 16.7% of your weight on Earth\u001b[0m\n\u001b[1;37m       ^\u001b[0m\n\u001b[1;31mSyntaxError\u001b[0m\u001b[1;31m:\u001b[0m invalid syntax\n"
     ]
    }
   ],
   "source": [
    "round(100/6, 1)\n",
    "\n",
    "print(f\"On the Moon, you would weigh about {round(100/6, 1)}% of your weight on Earth\")\n",
    "On the Moon, you would weigh about 16.7% of your weight on Earth    \n",
    "\n",
    " subject = \"interesting facts about the moon\"\n",
    "f\"{subject.title()}\""
   ]
  },
  {
   "cell_type": "code",
   "execution_count": 37,
   "metadata": {},
   "outputs": [],
   "source": [
    "name = 'Ganymede'\n",
    "planet = 'Mars'\n",
    "gravity = '1.43'"
   ]
  },
  {
   "cell_type": "code",
   "execution_count": 38,
   "metadata": {},
   "outputs": [],
   "source": [
    "# Enter code below\n",
    "template = \"\"\" Gravedad Hechos Acerca {nombre}\n",
    "----------------------------------------------\n",
    "Nombre del planeta = {planeta}\n",
    "Graveda en = {nombre} : {gravedad} m/s2\"\"\""
   ]
  },
  {
   "cell_type": "code",
   "execution_count": 43,
   "metadata": {},
   "outputs": [
    {
     "ename": "TypeError",
     "evalue": "'str' object is not callable",
     "output_type": "error",
     "traceback": [
      "\u001b[1;31m---------------------------------------------------------------------------\u001b[0m",
      "\u001b[1;31mTypeError\u001b[0m                                 Traceback (most recent call last)",
      "\u001b[1;32md:\\Archivos personales\\MES DE DATOS\\demoreactor\\formato_cadenas.ipynb Celda 15\u001b[0m in \u001b[0;36m<module>\u001b[1;34m\u001b[0m\n\u001b[1;32m----> <a href='vscode-notebook-cell:/d%3A/Archivos%20personales/MES%20DE%20DATOS/demoreactor/formato_cadenas.ipynb#X22sZmlsZQ%3D%3D?line=0'>1</a>\u001b[0m \u001b[39mprint\u001b[39;49m(template\u001b[39m.\u001b[39;49mformat(nombre\u001b[39m=\u001b[39;49mname, planeta\u001b[39m=\u001b[39;49mplanet, gravedad\u001b[39m=\u001b[39;49mgravity))\n",
      "\u001b[1;31mTypeError\u001b[0m: 'str' object is not callable"
     ]
    }
   ],
   "source": [
    "print(template.format(nombre=name, planeta=planet, gravedad=gravity))"
   ]
  }
 ],
 "metadata": {
  "kernelspec": {
   "display_name": "Python 3",
   "language": "python",
   "name": "python3"
  },
  "language_info": {
   "codemirror_mode": {
    "name": "ipython",
    "version": 3
   },
   "file_extension": ".py",
   "mimetype": "text/x-python",
   "name": "python",
   "nbconvert_exporter": "python",
   "pygments_lexer": "ipython3",
   "version": "3.10.7"
  },
  "orig_nbformat": 4
 },
 "nbformat": 4,
 "nbformat_minor": 2
}
