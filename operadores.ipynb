{
 "cells": [
  {
   "attachments": {},
   "cell_type": "markdown",
   "metadata": {},
   "source": [
    "# ¿Cuáles son los operadores en Python? \n",
    "\n",
    "Por lo general, las matemáticas implican unas cuatro operaciones principales: suma, resta, multiplicación y división. Python admite estos cuatro operadores y algunos otros. Vamos a explorar los operadores más comunes que usará en los programas."
   ]
  },
  {
   "cell_type": "code",
   "execution_count": 1,
   "metadata": {},
   "outputs": [
    {
     "name": "stdout",
     "output_type": "stream",
     "text": [
      "68\n"
     ]
    }
   ],
   "source": [
    "#Suma\n",
    "#Python usa para + indicar la suma. Usar + entre dos números los suma y proporciona el total.\n",
    "\n",
    "answer = 23 + 45\n",
    "print(answer)"
   ]
  },
  {
   "attachments": {},
   "cell_type": "markdown",
   "metadata": {},
   "source": [
    "NOTA: Los operadores se comportan igual cuando se usan números literales (como 42) o variables."
   ]
  },
  {
   "attachments": {},
   "cell_type": "markdown",
   "metadata": {},
   "source": [
    "# Resta\n",
    "De manera similar, Python utiliza - para la resta. Usar - entre dos números los resta y proporciona la diferencia."
   ]
  },
  {
   "cell_type": "code",
   "execution_count": 2,
   "metadata": {},
   "outputs": [
    {
     "name": "stdout",
     "output_type": "stream",
     "text": [
      "18\n"
     ]
    }
   ],
   "source": [
    "difference = 30 - 12\n",
    "print(difference)"
   ]
  },
  {
   "attachments": {},
   "cell_type": "markdown",
   "metadata": {},
   "source": [
    "# Multiplicación\n",
    "En Python, * es el operador de multiplicación. Proporciona el producto de dos números:"
   ]
  },
  {
   "cell_type": "code",
   "execution_count": 3,
   "metadata": {},
   "outputs": [
    {
     "name": "stdout",
     "output_type": "stream",
     "text": [
      "120\n"
     ]
    }
   ],
   "source": [
    "product = 30 * 4\n",
    "print(product)"
   ]
  },
  {
   "attachments": {},
   "cell_type": "markdown",
   "metadata": {},
   "source": [
    "# División\n",
    "Por último, / se usa para la división. Proporciona el cociente de dos números:"
   ]
  },
  {
   "cell_type": "code",
   "execution_count": 4,
   "metadata": {},
   "outputs": [
    {
     "name": "stdout",
     "output_type": "stream",
     "text": [
      "8.333333333333334\n"
     ]
    }
   ],
   "source": [
    "division = 100 / 12\n",
    "print(division)"
   ]
  },
  {
   "attachments": {},
   "cell_type": "markdown",
   "metadata": {},
   "source": [
    "# Uso de la división"
   ]
  },
  {
   "cell_type": "code",
   "execution_count": 5,
   "metadata": {},
   "outputs": [],
   "source": [
    "seconds = 1042"
   ]
  },
  {
   "attachments": {},
   "cell_type": "markdown",
   "metadata": {},
   "source": [
    "El primer paso consiste en determinar el número de minutos que hay en 1042 segundos. Con 60 segundos en un minuto, puede dividir por 60 y obtener una respuesta de 17.3666667. El número que le interesa simplemente es 17. Se recomienda redondear hacia abajo, usando lo que se conoce como división de múltiplo inferior. Para realizar una división de este tipo en Python, debe utilizar //."
   ]
  },
  {
   "cell_type": "code",
   "execution_count": 8,
   "metadata": {},
   "outputs": [
    {
     "name": "stdout",
     "output_type": "stream",
     "text": [
      "17\n"
     ]
    }
   ],
   "source": [
    "seconds = 1042\n",
    "display_minutes = 1042 // 60 #Redondear\n",
    "print(display_minutes)\n"
   ]
  },
  {
   "attachments": {},
   "cell_type": "markdown",
   "metadata": {},
   "source": [
    "El paso siguiente es determinar el número de segundos. Este número es el resto de 1042 si divide entre 60. Para encontrar el resto, use el operador módulo, que en Python es %. El resto de 1042 / 60 es 22, que es el valor que el operador módulo proporcionará."
   ]
  },
  {
   "cell_type": "code",
   "execution_count": 9,
   "metadata": {},
   "outputs": [
    {
     "name": "stdout",
     "output_type": "stream",
     "text": [
      "17\n",
      "22\n"
     ]
    }
   ],
   "source": [
    "seconds = 1042\n",
    "display_minutes = 1042 // 60\n",
    "display_seconds = 1042 % 60 #Residuo\n",
    "\n",
    "print(display_minutes)\n",
    "print(display_seconds)"
   ]
  },
  {
   "attachments": {},
   "cell_type": "markdown",
   "metadata": {},
   "source": [
    "# Orden de las operaciones\n",
    "Python respeta el orden de las operaciones en matemáticas. El orden de las operaciones determina que las expresiones se deben evaluar en este orden:\n",
    "\n",
    "1. Paréntesis\n",
    "2. Exponentes\n",
    "3. Multiplicación y división\n",
    "4. Suma y resta\n",
    "\n",
    "Observe que se evalúan los paréntesis antes que cualquier otra operación. Usar paréntesis le permite asegurarse de que el código se ejecute de una manera predecible y el código resulta más fácil de leer y mantener. Como resultado, el procedimiento recomendado es usar paréntesis aunque el orden de las operaciones se evalúe de la misma manera sin ellos. En las dos líneas de código siguientes, la segunda es más comprensible porque el paréntesis indica claramente qué operación se realizará primero."
   ]
  },
  {
   "cell_type": "code",
   "execution_count": 12,
   "metadata": {},
   "outputs": [
    {
     "name": "stdout",
     "output_type": "stream",
     "text": [
      "1084 1084\n"
     ]
    }
   ],
   "source": [
    "result_1 = 1032 + 26 * 2\n",
    "result_2 = 1032 + (26 * 2)\n",
    "\n",
    "print(result_1, result_2)\n",
    "# The answer is the same in both cases - 1084"
   ]
  },
  {
   "attachments": {},
   "cell_type": "markdown",
   "metadata": {},
   "source": [
    "# Ejercicio: Uso de operadores aritméticos\n",
    "\n",
    "Python proporciona operadores aritméticos comunes para que pueda realizar operaciones matemáticas en su código. Estos incluyen las cuatro operaciones básicas de suma, resta, multiplicación y división.\n",
    "\n",
    "Exploremos cómo podemos crear un programa que pueda calcular la distancia entre dos planetas. Empezaremos usando dos distancias planetarias: la Tierra (149 597 870 km) y Júpiter (778 547 200 km).\n",
    "\n",
    "Este ejercicio se divide en una serie de pasos. Para cada paso, se le presentará el objetivo del paso, seguido de una celda vacía. Ingrese su Python en la celda y ejecútelo. La solución para cada paso seguirá a cada celda.\n",
    "\n",
    "Nota: elimine las comas cuando utilice los valores.\n",
    "\n",
    "Crear variables para almacenar las distancias\n",
    "Comience creando dos variables llamadas first_planety second_planet. Ajuste first_planetla distancia del sol a la Tierra y second_planetla distancia del sol a Júpiter."
   ]
  },
  {
   "cell_type": "code",
   "execution_count": 13,
   "metadata": {},
   "outputs": [],
   "source": [
    "first_planet = 149597870\n",
    "second_planet = 778547200"
   ]
  },
  {
   "attachments": {},
   "cell_type": "markdown",
   "metadata": {},
   "source": [
    "\n",
    "# Mostrar la distancia entre los planetas\n",
    "Tienes dos variables que almacenan la distancia entre cada planeta y un punto común: el sol. Puedes restar estos dos valores para determinar la distancia entre los planetas.\n",
    "\n",
    "Comience agregando el código para restar first_planety second_planetalmacene el resultado en una variable llamada distance_km. Muestra el valor en la pantalla.\n",
    "\n",
    "Luego agregue el código para convertir distance_kma millas dividiéndolo por 1.609344 (la diferencia aproximada entre millas y kilómetros) y almacene el resultado en una variable llamada distance_mi. Muestra el valor en la pantalla."
   ]
  },
  {
   "cell_type": "code",
   "execution_count": 14,
   "metadata": {},
   "outputs": [
    {
     "name": "stdout",
     "output_type": "stream",
     "text": [
      "La distancia de la tierra a  jupiter en km: 628949330\n",
      "La distancia en millas: 390810995.0389724\n"
     ]
    }
   ],
   "source": [
    "first_planet = 149597870\n",
    "second_planet = 778547200\n",
    "\n",
    "distance_km = second_planet - first_planet\n",
    "distance_mi = distance_km / 1.609344\n",
    "\n",
    "print(\"La distancia de la tierra a  jupiter en km: \" + str(distance_km))\n",
    "print(\"La distancia en millas: \" + str(distance_mi))"
   ]
  },
  {
   "attachments": {},
   "cell_type": "markdown",
   "metadata": {},
   "source": [
    "# Uso de números en Python\n",
    "\n",
    "Más allá de la aritmética básica, puede usar otras operaciones en los números. Es posible que tenga que realizar un redondeo o convertir cadenas en números.\n",
    "\n",
    "En el escenario de este módulo, quiere aceptar la entrada de un usuario. La entrada será una cadena en lugar de un número, por lo que deberá convertirla en un número. Además, es posible que el usuario escriba valores que le den una respuesta negativa que no querrá mostrar. Puede que tenga que convertir la respuesta en el valor absoluto. Afortunadamente, Python proporciona utilidades para estas operaciones."
   ]
  },
  {
   "attachments": {},
   "cell_type": "markdown",
   "metadata": {},
   "source": [
    "# Conversión de cadenas en números\n",
    "Python admite dos tipos principales de números: números enteros (o int) y número de punto flotante (o float). La diferencia clave entre ambos es la existencia de un separador decimal; los enteros son números enteros, mientras que los números de punto flotante contienen un valor decimal.\n",
    "\n",
    "Al convertir cadenas en números, debe indicar el tipo de número que desea crear. Tiene que decidir si necesita un separador decimal. Se usa int para realizar la conversión en un número entero y float para hacerlo en un número de punto flotante."
   ]
  },
  {
   "cell_type": "code",
   "execution_count": 17,
   "metadata": {},
   "outputs": [
    {
     "name": "stdout",
     "output_type": "stream",
     "text": [
      "215\n",
      "<class 'int'>\n",
      "215.3\n",
      "<class 'float'>\n"
     ]
    }
   ],
   "source": [
    "demo_int = int('215')\n",
    "print(demo_int)\n",
    "print(type(demo_int))\n",
    "\n",
    "demo_float = float('215.3')\n",
    "print(demo_float)\n",
    "print(type(demo_float))"
   ]
  },
  {
   "attachments": {},
   "cell_type": "markdown",
   "metadata": {},
   "source": [
    "# Valores absolutos\n",
    "En matemáticas, un valor absoluto es el número no negativo sin su signo. El uso de un valor absoluto puede ser útil en situaciones varias, incluido el ejemplo de búsqueda para determinar la distancia entre dos planetas. Considere los cálculos siguientes:\n",
    "\n",
    "\n",
    "39 - 16\n",
    "16 - 39"
   ]
  },
  {
   "attachments": {},
   "cell_type": "markdown",
   "metadata": {},
   "source": [
    "Observe que la diferencia entre las dos ecuaciones es que los números se invierten. Las respuestas son 23 y -23, respectivamente. Al determinar la distancia entre dos planetas, no importa el orden en el que se escriben los números, ya que la respuesta absoluta es la misma.\n",
    "\n",
    "Use abs para convertir el valor negativo en su valor absoluto. Si hace la misma operación mediante abs (e imprime las respuestas), verá que muestra 23 para ambas ecuaciones."
   ]
  },
  {
   "cell_type": "code",
   "execution_count": 18,
   "metadata": {},
   "outputs": [
    {
     "name": "stdout",
     "output_type": "stream",
     "text": [
      "23\n",
      "23\n"
     ]
    }
   ],
   "source": [
    "print(abs(39 - 16))\n",
    "print(abs(16 - 39))\n"
   ]
  },
  {
   "attachments": {},
   "cell_type": "markdown",
   "metadata": {},
   "source": [
    "# Redondeo\n",
    "También es útil la función integrada de Python denominada round. Úsela para redondear hacia arriba al entero más cercano si el valor decimal es .5 o mayor, o bien hacia abajo si es menor que .5."
   ]
  },
  {
   "cell_type": "code",
   "execution_count": 19,
   "metadata": {},
   "outputs": [
    {
     "name": "stdout",
     "output_type": "stream",
     "text": [
      "14\n"
     ]
    }
   ],
   "source": [
    "print(round(14.5))\n"
   ]
  },
  {
   "attachments": {},
   "cell_type": "markdown",
   "metadata": {},
   "source": [
    "# Biblioteca matemática\n",
    "Python tiene bibliotecas para proporcionar operaciones y cálculos más avanzados. Una de las más comunes es la biblioteca math. math permite hacer el redondeo con floor y ceil, proporcionar el valor de pi y muchas otras operaciones. Veamos cómo usar esta biblioteca para redondear hacia arriba o hacia abajo.\n",
    "\n",
    "El redondeo de números permite quitar la parte decimal de un número de punto flotante. Puede optar por redondear siempre hacia arriba al número entero más cercano si usa ceil, o hacia abajo si usa floor."
   ]
  },
  {
   "cell_type": "code",
   "execution_count": 20,
   "metadata": {},
   "outputs": [
    {
     "name": "stdout",
     "output_type": "stream",
     "text": [
      "13\n",
      "12\n"
     ]
    }
   ],
   "source": [
    "from math import ceil, floor\n",
    "\n",
    "round_up = ceil(12.5)\n",
    "print(round_up)\n",
    "\n",
    "round_down = floor(12.5)\n",
    "print(round_down)\n"
   ]
  },
  {
   "attachments": {},
   "cell_type": "markdown",
   "metadata": {},
   "source": [
    "# Ejercicio: Conversión de cadenas en números y uso de valores absolutos\n",
    "\n",
    "\n",
    "Cree una aplicación para trabajar con números y entrada del usuario\n",
    "Con frecuencia necesitará convertir valores de cadena en números para realizar correctamente diferentes operaciones o determinar el valor absoluto de un número. En este ejercicio, creará un proyecto para calcular la distancia entre dos planetas según la entrada del usuario.\n",
    "\n",
    "Este ejercicio se divide en una serie de pasos. Para cada paso, se le presentará el objetivo del paso, seguido de una celda vacía. Ingrese su Python en la celda y ejecútelo. La solución para cada paso seguirá a cada celda.\n",
    "\n",
    "Leer los valores del usuario\n",
    "Para crear nuestra aplicación, queremos leer la distancia desde el sol para dos planetas y luego mostrar la distancia entre los planetas. Haremos esto usando inputpara leer los valores, intconvertirlos a enteros y luego absconvertir el resultado a su valor absoluto.\n",
    "\n",
    "Comience agregando el código para solicitar al usuario la distancia entre el sol y el primer planeta, y luego el segundo. Almacene cada resultado en variables denominadas first_planet_inputy second_planet_input."
   ]
  },
  {
   "cell_type": "code",
   "execution_count": 21,
   "metadata": {},
   "outputs": [],
   "source": [
    "# Enter code below\n",
    "first_planet_input = input(\"Inserte distancia tierra a sol KM: \")\n",
    "second_planet_input = input(\"Inserte distancia jupiter a sol KM: \")"
   ]
  },
  {
   "attachments": {},
   "cell_type": "markdown",
   "metadata": {},
   "source": [
    "\n",
    "# Convertir a número\n",
    "Debido a inputque devuelve valores de cadena, necesitamos convertirlos en números. Agregue el código para convertir cada entrada en un número entero usando int. Almacene los valores en first_planety second_planetrespectivamente."
   ]
  },
  {
   "cell_type": "code",
   "execution_count": 22,
   "metadata": {},
   "outputs": [],
   "source": [
    "# Enter code below\n",
    "first_planet = int(first_planet_input)\n",
    "second_planet = int(second_planet_input)"
   ]
  },
  {
   "attachments": {},
   "cell_type": "markdown",
   "metadata": {},
   "source": [
    "\n",
    "# Realizar el cálculo y convertir a valor absoluto\n",
    "Con sus valores almacenados como números, ahora puede agregar el código para realizar el cálculo, restando el primer planeta del segundo. Debido a que el segundo planeta puede ser un número mayor, lo usará abspara convertirlo a un valor absoluto.\n",
    "\n",
    "Resta y convierte first_planetel second_planetresultado a su valor absoluto usando abs. Almacene el resultado en una variable llamada distance_km. Luego muestre el resultado en la pantalla."
   ]
  },
  {
   "cell_type": "code",
   "execution_count": 23,
   "metadata": {},
   "outputs": [
    {
     "name": "stdout",
     "output_type": "stream",
     "text": [
      "21\n"
     ]
    }
   ],
   "source": [
    "# Enter code below\n",
    "distance_km = abs(first_planet - second_planet)\n",
    "print(distance_km)"
   ]
  },
  {
   "cell_type": "code",
   "execution_count": 24,
   "metadata": {},
   "outputs": [
    {
     "name": "stdout",
     "output_type": "stream",
     "text": [
      "21\n"
     ]
    }
   ],
   "source": [
    "\n",
    "distance_km = second_planet - first_planet\n",
    "print(abs(distance_km))"
   ]
  },
  {
   "attachments": {},
   "cell_type": "markdown",
   "metadata": {},
   "source": [
    "\n",
    "Test your application\n",
    "To test your project, run the notebook. You'll be prompted in a dialog to provide the distances. You can use the ones from the following table:\n",
    "\n",
    "Planet\tDistance from sun\n",
    "Mercury\t57900000\n",
    "Venus\t108200000\n",
    "Earth\t149600000\n",
    "Mars\t227900000\n",
    "Jupiter\t778600000\n",
    "Saturn\t1433500000\n",
    "Uranus\t2872500000\n",
    "Neptune\t4495100000\n"
   ]
  }
 ],
 "metadata": {
  "kernelspec": {
   "display_name": "Python 3",
   "language": "python",
   "name": "python3"
  },
  "language_info": {
   "codemirror_mode": {
    "name": "ipython",
    "version": 3
   },
   "file_extension": ".py",
   "mimetype": "text/x-python",
   "name": "python",
   "nbconvert_exporter": "python",
   "pygments_lexer": "ipython3",
   "version": "3.10.7"
  },
  "orig_nbformat": 4
 },
 "nbformat": 4,
 "nbformat_minor": 2
}
