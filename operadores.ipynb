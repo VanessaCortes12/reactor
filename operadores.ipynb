{
 "cells": [
  {
   "attachments": {},
   "cell_type": "markdown",
   "metadata": {},
   "source": [
    "# ¿Cuáles son los operadores en Python? \n",
    "\n",
    "Por lo general, las matemáticas implican unas cuatro operaciones principales: suma, resta, multiplicación y división. Python admite estos cuatro operadores y algunos otros. Vamos a explorar los operadores más comunes que usará en los programas."
   ]
  },
  {
   "cell_type": "code",
   "execution_count": 1,
   "metadata": {},
   "outputs": [
    {
     "name": "stdout",
     "output_type": "stream",
     "text": [
      "68\n"
     ]
    }
   ],
   "source": [
    "#Suma\n",
    "#Python usa para + indicar la suma. Usar + entre dos números los suma y proporciona el total.\n",
    "\n",
    "answer = 23 + 45\n",
    "print(answer)"
   ]
  },
  {
   "attachments": {},
   "cell_type": "markdown",
   "metadata": {},
   "source": [
    "NOTA: Los operadores se comportan igual cuando se usan números literales (como 42) o variables."
   ]
  },
  {
   "attachments": {},
   "cell_type": "markdown",
   "metadata": {},
   "source": [
    "# Resta\n",
    "De manera similar, Python utiliza - para la resta. Usar - entre dos números los resta y proporciona la diferencia."
   ]
  },
  {
   "cell_type": "code",
   "execution_count": 2,
   "metadata": {},
   "outputs": [
    {
     "name": "stdout",
     "output_type": "stream",
     "text": [
      "18\n"
     ]
    }
   ],
   "source": [
    "difference = 30 - 12\n",
    "print(difference)"
   ]
  },
  {
   "attachments": {},
   "cell_type": "markdown",
   "metadata": {},
   "source": [
    "# Multiplicación\n",
    "En Python, * es el operador de multiplicación. Proporciona el producto de dos números:"
   ]
  },
  {
   "cell_type": "code",
   "execution_count": 3,
   "metadata": {},
   "outputs": [
    {
     "name": "stdout",
     "output_type": "stream",
     "text": [
      "120\n"
     ]
    }
   ],
   "source": [
    "product = 30 * 4\n",
    "print(product)"
   ]
  },
  {
   "attachments": {},
   "cell_type": "markdown",
   "metadata": {},
   "source": [
    "# División\n",
    "Por último, / se usa para la división. Proporciona el cociente de dos números:"
   ]
  },
  {
   "cell_type": "code",
   "execution_count": 4,
   "metadata": {},
   "outputs": [
    {
     "name": "stdout",
     "output_type": "stream",
     "text": [
      "8.333333333333334\n"
     ]
    }
   ],
   "source": [
    "division = 100 / 12\n",
    "print(division)"
   ]
  },
  {
   "attachments": {},
   "cell_type": "markdown",
   "metadata": {},
   "source": [
    "# Uso de la división"
   ]
  },
  {
   "cell_type": "code",
   "execution_count": 5,
   "metadata": {},
   "outputs": [],
   "source": [
    "seconds = 1042"
   ]
  },
  {
   "attachments": {},
   "cell_type": "markdown",
   "metadata": {},
   "source": [
    "El primer paso consiste en determinar el número de minutos que hay en 1042 segundos. Con 60 segundos en un minuto, puede dividir por 60 y obtener una respuesta de 17.3666667. El número que le interesa simplemente es 17. Se recomienda redondear hacia abajo, usando lo que se conoce como división de múltiplo inferior. Para realizar una división de este tipo en Python, debe utilizar //."
   ]
  },
  {
   "cell_type": "code",
   "execution_count": 8,
   "metadata": {},
   "outputs": [
    {
     "name": "stdout",
     "output_type": "stream",
     "text": [
      "17\n"
     ]
    }
   ],
   "source": [
    "seconds = 1042\n",
    "display_minutes = 1042 // 60 #Redondear\n",
    "print(display_minutes)\n"
   ]
  },
  {
   "attachments": {},
   "cell_type": "markdown",
   "metadata": {},
   "source": [
    "El paso siguiente es determinar el número de segundos. Este número es el resto de 1042 si divide entre 60. Para encontrar el resto, use el operador módulo, que en Python es %. El resto de 1042 / 60 es 22, que es el valor que el operador módulo proporcionará."
   ]
  },
  {
   "cell_type": "code",
   "execution_count": 9,
   "metadata": {},
   "outputs": [
    {
     "name": "stdout",
     "output_type": "stream",
     "text": [
      "17\n",
      "22\n"
     ]
    }
   ],
   "source": [
    "seconds = 1042\n",
    "display_minutes = 1042 // 60\n",
    "display_seconds = 1042 % 60 #Residuo\n",
    "\n",
    "print(display_minutes)\n",
    "print(display_seconds)"
   ]
  },
  {
   "attachments": {},
   "cell_type": "markdown",
   "metadata": {},
   "source": [
    "# Orden de las operaciones\n",
    "Python respeta el orden de las operaciones en matemáticas. El orden de las operaciones determina que las expresiones se deben evaluar en este orden:\n",
    "\n",
    "1. Paréntesis\n",
    "2. Exponentes\n",
    "3. Multiplicación y división\n",
    "4. Suma y resta\n",
    "\n",
    "Observe que se evalúan los paréntesis antes que cualquier otra operación. Usar paréntesis le permite asegurarse de que el código se ejecute de una manera predecible y el código resulta más fácil de leer y mantener. Como resultado, el procedimiento recomendado es usar paréntesis aunque el orden de las operaciones se evalúe de la misma manera sin ellos. En las dos líneas de código siguientes, la segunda es más comprensible porque el paréntesis indica claramente qué operación se realizará primero."
   ]
  },
  {
   "cell_type": "code",
   "execution_count": 12,
   "metadata": {},
   "outputs": [
    {
     "name": "stdout",
     "output_type": "stream",
     "text": [
      "1084 1084\n"
     ]
    }
   ],
   "source": [
    "result_1 = 1032 + 26 * 2\n",
    "result_2 = 1032 + (26 * 2)\n",
    "\n",
    "print(result_1, result_2)\n",
    "# The answer is the same in both cases - 1084"
   ]
  },
  {
   "attachments": {},
   "cell_type": "markdown",
   "metadata": {},
   "source": [
    "# Ejercicio: Uso de operadores aritméticos\n",
    "\n",
    "Python proporciona operadores aritméticos comunes para que pueda realizar operaciones matemáticas en su código. Estos incluyen las cuatro operaciones básicas de suma, resta, multiplicación y división.\n",
    "\n",
    "Exploremos cómo podemos crear un programa que pueda calcular la distancia entre dos planetas. Empezaremos usando dos distancias planetarias: la Tierra (149 597 870 km) y Júpiter (778 547 200 km).\n",
    "\n",
    "Este ejercicio se divide en una serie de pasos. Para cada paso, se le presentará el objetivo del paso, seguido de una celda vacía. Ingrese su Python en la celda y ejecútelo. La solución para cada paso seguirá a cada celda.\n",
    "\n",
    "Nota: elimine las comas cuando utilice los valores.\n",
    "\n",
    "Crear variables para almacenar las distancias\n",
    "Comience creando dos variables llamadas first_planety second_planet. Ajuste first_planetla distancia del sol a la Tierra y second_planetla distancia del sol a Júpiter."
   ]
  },
  {
   "cell_type": "code",
   "execution_count": 13,
   "metadata": {},
   "outputs": [],
   "source": [
    "first_planet = 149597870\n",
    "second_planet = 778547200"
   ]
  },
  {
   "attachments": {},
   "cell_type": "markdown",
   "metadata": {},
   "source": [
    "\n",
    "# Mostrar la distancia entre los planetas\n",
    "Tienes dos variables que almacenan la distancia entre cada planeta y un punto común: el sol. Puedes restar estos dos valores para determinar la distancia entre los planetas.\n",
    "\n",
    "Comience agregando el código para restar first_planety second_planetalmacene el resultado en una variable llamada distance_km. Muestra el valor en la pantalla.\n",
    "\n",
    "Luego agregue el código para convertir distance_kma millas dividiéndolo por 1.609344 (la diferencia aproximada entre millas y kilómetros) y almacene el resultado en una variable llamada distance_mi. Muestra el valor en la pantalla."
   ]
  },
  {
   "cell_type": "code",
   "execution_count": 14,
   "metadata": {},
   "outputs": [
    {
     "name": "stdout",
     "output_type": "stream",
     "text": [
      "La distancia de la tierra a  jupiter en km: 628949330\n",
      "La distancia en millas: 390810995.0389724\n"
     ]
    }
   ],
   "source": [
    "first_planet = 149597870\n",
    "second_planet = 778547200\n",
    "\n",
    "distance_km = second_planet - first_planet\n",
    "distance_mi = distance_km / 1.609344\n",
    "\n",
    "print(\"La distancia de la tierra a  jupiter en km: \" + str(distance_km))\n",
    "print(\"La distancia en millas: \" + str(distance_mi))"
   ]
  }
 ],
 "metadata": {
  "kernelspec": {
   "display_name": "Python 3",
   "language": "python",
   "name": "python3"
  },
  "language_info": {
   "codemirror_mode": {
    "name": "ipython",
    "version": 3
   },
   "file_extension": ".py",
   "mimetype": "text/x-python",
   "name": "python",
   "nbconvert_exporter": "python",
   "pygments_lexer": "ipython3",
   "version": "3.10.7"
  },
  "orig_nbformat": 4
 },
 "nbformat": 4,
 "nbformat_minor": 2
}
