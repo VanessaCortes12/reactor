{
 "cells": [
  {
   "attachments": {},
   "cell_type": "markdown",
   "metadata": {},
   "source": [
    "# Escritura de instrucciones \"if\"\n",
    "\n",
    "Para expresar la lógica condicional en Python, se usan instrucciones if. Al escribir una instrucción if, se basa en otro concepto que se describe en este módulo, el de los operadores matemáticos. Python admite los operadores lógicos comunes de matemáticas: igual, no igual, menor que, menor o igual que, mayor que y mayor o igual que. Probablemente esté acostumbrado a ver que estos operadores se muestran mediante símbolos, que también es la forma en que se representan en Python.\n",
    "\n",
    "Es igual que: a == b\n",
    "No es igual a: a != b\n",
    "Menor que: a < b\n",
    "Menor o igual que: a <= b\n",
    "Mayor que: a > b\n",
    "Mayor o igual que: a >= b\n",
    "\n",
    "# Expresiones de prueba\n",
    "Debe usar una instrucción if para ejecutar código solo si se cumple una condición concreta. Lo primero que hace al escribir una instrucción if es comprobar la condición mediante una expresión de prueba. Después, se determina si la instrucción se evalúa como True o False. Si es True, se ejecuta el siguiente bloque de código con sangría:"
   ]
  },
  {
   "cell_type": "code",
   "execution_count": 1,
   "metadata": {},
   "outputs": [
    {
     "name": "stdout",
     "output_type": "stream",
     "text": [
      "El número mayor es: 66\n",
      "66\n"
     ]
    }
   ],
   "source": [
    "a = 57\n",
    "b = 66\n",
    "if a < b: #Expresión de prueba\n",
    "    print(\"El número mayor es: \" + str(b))\n",
    "    print(b)\n",
    "    \n",
    "# En Python, None y 0 también se interpretan como False."
   ]
  },
  {
   "attachments": {},
   "cell_type": "markdown",
   "metadata": {},
   "source": [
    "# Escritura de instrucciones if\n",
    "Use una instrucción if si quiere ejecutar código solo si se cumple una condición concreta. La sintaxis de una instrucción if siempre es la siguiente:\n",
    "\n",
    "if test_expression:\n",
    "    # statement(s) to be run"
   ]
  },
  {
   "cell_type": "code",
   "execution_count": 4,
   "metadata": {},
   "outputs": [
    {
     "name": "stdout",
     "output_type": "stream",
     "text": [
      "93\n"
     ]
    }
   ],
   "source": [
    "a = 93\n",
    "b = 27\n",
    "if a >= b:\n",
    "    print(a)"
   ]
  },
  {
   "attachments": {},
   "cell_type": "markdown",
   "metadata": {},
   "source": [
    "En Python, se debe aplicar sangría al cuerpo de una instrucción if. Siempre se ejecutará cualquier código que siga a una expresión de prueba que no tenga sangría:"
   ]
  },
  {
   "cell_type": "code",
   "execution_count": 6,
   "metadata": {},
   "outputs": [
    {
     "name": "stdout",
     "output_type": "stream",
     "text": [
      "44\n"
     ]
    }
   ],
   "source": [
    "a = 24\n",
    "b = 44\n",
    "if a >= b:\n",
    "    print(a) #No ejecuta la instrucción porque el test de expresión es falsa\n",
    "print(b) #La ejecuta por no estar dentro del if"
   ]
  },
  {
   "attachments": {},
   "cell_type": "markdown",
   "metadata": {},
   "source": [
    "Salida: 44\n",
    "\n",
    "En este ejemplo, la salida es 44 ya que la expresión de prueba es False y la instrucción print(b) no tiene sangría en el mismo nivel que la instrucción if."
   ]
  }
 ],
 "metadata": {
  "kernelspec": {
   "display_name": "Python 3",
   "language": "python",
   "name": "python3"
  },
  "language_info": {
   "codemirror_mode": {
    "name": "ipython",
    "version": 3
   },
   "file_extension": ".py",
   "mimetype": "text/x-python",
   "name": "python",
   "nbconvert_exporter": "python",
   "pygments_lexer": "ipython3",
   "version": "3.10.7"
  },
  "orig_nbformat": 4
 },
 "nbformat": 4,
 "nbformat_minor": 2
}
