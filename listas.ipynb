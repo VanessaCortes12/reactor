{
 "cells": [
  {
   "cell_type": "code",
   "execution_count": null,
   "metadata": {},
   "outputs": [],
   "source": []
  },
  {
   "attachments": {},
   "cell_type": "markdown",
   "metadata": {},
   "source": [
    "# Presentación de listas\n",
    "Python tiene muchos tipos integrados, como cadenas y enteros. También tiene un tipo para almacenar una colección de valores: la lista.\n",
    "\n",
    "# Crear una lista\n",
    "Para crear una lista, asigne una secuencia de valores a una variable. Cada valor está separado por una coma y están entre corchetes ([]). En el ejemplo siguiente se almacena la lista de todos los planetas de la variable planets:"
   ]
  },
  {
   "cell_type": "code",
   "execution_count": 1,
   "metadata": {},
   "outputs": [],
   "source": [
    "planetas = [\"Mercurio\",\"Venus\",\"Tierra\",\"Marte\",\"Jupiter\",\"Saturno\",\"Urano\",\"Neptuno\"]"
   ]
  },
  {
   "attachments": {},
   "cell_type": "markdown",
   "metadata": {},
   "source": [
    "# Acceso a elementos de lista por índice\n",
    "Puede acceder a cualquier elemento de una lista colocando el índice entre corchetes [] después del nombre de la variable de lista. Los índices comienzan a partir de 0, por lo que en el código siguiente, planets[0] es el primer elemento de la lista planets:"
   ]
  },
  {
   "cell_type": "code",
   "execution_count": 6,
   "metadata": {},
   "outputs": [
    {
     "name": "stdout",
     "output_type": "stream",
     "text": [
      "El primer planeta es Mercurio\n",
      "El segundo planeta es Venus\n",
      "El tercer planeta es Tierra\n",
      "El primer planeta es  Mercurio\n"
     ]
    }
   ],
   "source": [
    "print(\"El primer planeta es \" + planetas[0])\n",
    "print(\"El segundo planeta es \" + planetas[1])\n",
    "print(\"El tercer planeta es \" + planetas[2])\n",
    "\n",
    "print(\"El primer planeta es \" , planetas[0])\n"
   ]
  },
  {
   "attachments": {},
   "cell_type": "markdown",
   "metadata": {},
   "source": [
    "Dado que todos los índices empiezan por 0, [1] es el segundo elemento, [2] es el tercero, etc.\n",
    "\n",
    "También puede modificar valores de una lista mediante un índice. Para ello, asigne un nuevo valor, de la misma manera que asignaría un valor de variable. Por ejemplo, podría cambiar el nombre de Marte en la lista para usar su alias:"
   ]
  },
  {
   "cell_type": "code",
   "execution_count": 8,
   "metadata": {},
   "outputs": [
    {
     "name": "stdout",
     "output_type": "stream",
     "text": [
      "En inglés Mercurio es:  Mercury\n"
     ]
    }
   ],
   "source": [
    "planetas[0] = \"Mercury\"\n",
    "print(\"En inglés Mercurio es: \" , planetas[0])"
   ]
  },
  {
   "attachments": {},
   "cell_type": "markdown",
   "metadata": {},
   "source": [
    "Determinación de la longitud de una lista\n",
    "Para obtener la longitud de una lista, use la función integrada len(). El código siguiente crea una variable, number_of_planets. El código asigna esa variable con el número de elementos de la lista planets (8)."
   ]
  },
  {
   "cell_type": "code",
   "execution_count": 19,
   "metadata": {},
   "outputs": [
    {
     "name": "stdout",
     "output_type": "stream",
     "text": [
      "El número de planetas en la lista son: 11\n",
      "El número de planetas en la lista son:  11\n"
     ]
    }
   ],
   "source": [
    "num_planetas = len(planetas)\n",
    "print(\"El número de planetas en la lista son: \" +  str(num_planetas))\n",
    "print(\"El número de planetas en la lista son: \" , num_planetas)"
   ]
  },
  {
   "attachments": {},
   "cell_type": "markdown",
   "metadata": {},
   "source": [
    "Incorporación de valores a listas\n",
    "Las listas de Python son dinámicas: puede agregar y quitar elementos después de crearlas. Para agregar un elemento a una lista, use el método .append(value).\n",
    "\n",
    "Por ejemplo, el código siguiente agrega la cadena \"Pluto\" al final de la lista planets:"
   ]
  },
  {
   "cell_type": "code",
   "execution_count": 24,
   "metadata": {},
   "outputs": [
    {
     "name": "stdout",
     "output_type": "stream",
     "text": [
      "16\n"
     ]
    }
   ],
   "source": [
    "planetas.append(\"Pluto\")\n",
    "number_of_planets = len(planetas)\n",
    "print(number_of_planets)"
   ]
  },
  {
   "attachments": {},
   "cell_type": "markdown",
   "metadata": {},
   "source": [
    "Eliminación de valores de listas\n",
    "Puede quitar el último elemento de una lista llamando al método .pop() en la variable de lista:"
   ]
  },
  {
   "cell_type": "code",
   "execution_count": 31,
   "metadata": {},
   "outputs": [
    {
     "name": "stdout",
     "output_type": "stream",
     "text": [
      "No, there are definitely 9 planets in the solar system.\n",
      "['Mercury', 'Venus', 'Tierra', 'Marte', 'Jupiter', 'Saturno', 'Urano', 'Neptuno', 'Pluto']\n"
     ]
    }
   ],
   "source": [
    "planetas.pop()  # Goodbye, Pluto\n",
    "number_of_planets = len(planetas)\n",
    "print(\"No, there are definitely\", number_of_planets, \"planets in the solar system.\")\n",
    "print(planetas)"
   ]
  },
  {
   "attachments": {},
   "cell_type": "markdown",
   "metadata": {},
   "source": [
    "Uso de índices negativos\n",
    "Ha visto cómo usar índices para capturar un elemento individual en una lista:"
   ]
  },
  {
   "cell_type": "code",
   "execution_count": 32,
   "metadata": {},
   "outputs": [
    {
     "name": "stdout",
     "output_type": "stream",
     "text": [
      "The first planet is Mercury\n"
     ]
    }
   ],
   "source": [
    "print(\"The first planet is\", planetas[0])\n",
    "\n",
    "# Output:\n",
    "# The first planet is Mercury"
   ]
  },
  {
   "attachments": {},
   "cell_type": "markdown",
   "metadata": {},
   "source": [
    "Los índices comienzan en cero y van en aumento. Los índices negativos comienzan al final de la lista y van hacia atrás.\n",
    "\n",
    "En el ejemplo siguiente, un índice de -1 devuelve el último elemento de una lista. Un índice de -2 devuelve el penúltimo."
   ]
  },
  {
   "cell_type": "code",
   "execution_count": 33,
   "metadata": {},
   "outputs": [
    {
     "name": "stdout",
     "output_type": "stream",
     "text": [
      "The last planet is Pluto\n",
      "The penultimate planet is Neptuno\n"
     ]
    }
   ],
   "source": [
    "print(\"The last planet is\", planetas[-1])\n",
    "print(\"The penultimate planet is\", planetas[-2])\n",
    "\n",
    "# Output\n",
    "# The last planet is Neptune\n",
    "# The penultimate planet is Uranus"
   ]
  },
  {
   "attachments": {},
   "cell_type": "markdown",
   "metadata": {},
   "source": [
    "Si quisiera devolver el antepenúltimo, usaría un índice de -3 (y así sucesivamente)."
   ]
  },
  {
   "attachments": {},
   "cell_type": "markdown",
   "metadata": {},
   "source": [
    "Búsqueda de un valor en una lista\n",
    "Para determinar dónde se almacena un valor en una lista, use el método index de la lista. Este método busca el valor y devuelve el índice de ese elemento en la lista. Si no encuentra ninguna coincidencia, devuelve -1.\n",
    "\n",
    "En el ejemplo siguiente se muestra el uso de \"Jupiter\" como el valor del índice:"
   ]
  },
  {
   "cell_type": "code",
   "execution_count": 34,
   "metadata": {},
   "outputs": [
    {
     "name": "stdout",
     "output_type": "stream",
     "text": [
      "Jupiter is the 5 planet from the sun\n"
     ]
    }
   ],
   "source": [
    "jupiter_index = planetas.index(\"Jupiter\")\n",
    "print(\"Jupiter is the\", jupiter_index + 1, \"planet from the sun\")\n",
    "\n",
    "# Output\n",
    "# Jupiter is the 5 planet from the sun"
   ]
  },
  {
   "attachments": {},
   "cell_type": "markdown",
   "metadata": {},
   "source": [
    "Dado que la indexación comienza por 0, debe agregar 1 para mostrar el número adecuado."
   ]
  },
  {
   "attachments": {},
   "cell_type": "markdown",
   "metadata": {},
   "source": [
    "# Ejercicio: Creación y uso de listas de Python\n",
    "\n",
    "\n",
    "Ejercicio: Usa listas para almacenar nombres de planetas\n",
    "Las listas le permiten almacenar múltiples valores en una sola variable. En este cuaderno, creará un proyecto para mostrar información sobre los planetas.\n",
    "\n",
    "Este ejercicio se divide en una serie de pasos. Para cada paso, se le presentará el objetivo del paso, seguido de una celda vacía. Ingrese su Python en la celda y ejecútelo. La solución para cada paso seguirá a cada celda.\n",
    "\n",
    "Agregar todos los planetas a una lista\n",
    "Primero, crea una variable llamada planets. Agregue los ocho planetas (sin Plutón) a la lista. Los planetas son:\n",
    "\n",
    "Mercurio\n",
    "Venus\n",
    "Tierra\n",
    "Marte\n",
    "Júpiter\n",
    "Saturno\n",
    "Urano\n",
    "Neptuno\n",
    "Termine usando printpara mostrar la lista de planetas."
   ]
  },
  {
   "cell_type": "code",
   "execution_count": null,
   "metadata": {},
   "outputs": [],
   "source": [
    "planetas = [\"Mercurio\",\"Venus\",\"Tierra\",\"Marte\",\"Jupiter\",\"Saturno\",\"Urano\",\"Neptuno\"]\n",
    "\n",
    "print(planetas)"
   ]
  },
  {
   "attachments": {},
   "cell_type": "markdown",
   "metadata": {},
   "source": [
    "\n",
    "Mostrar el número de planetas\n",
    "A continuación, muestre el número total de planetsusando leny print."
   ]
  },
  {
   "cell_type": "code",
   "execution_count": null,
   "metadata": {},
   "outputs": [],
   "source": [
    "# Enter your code below:\n",
    "num_planetas = len(planetas)\n",
    "print(\"El número de planetas son\" , num_planetas)"
   ]
  },
  {
   "attachments": {},
   "cell_type": "markdown",
   "metadata": {},
   "source": [
    "\n",
    "Agregar un planeta a la lista\n",
    "Finalmente, agregue Plutón a la lista que creó. A continuación, muestra tanto el número de planetas como el último planeta de la lista."
   ]
  },
  {
   "cell_type": "code",
   "execution_count": 35,
   "metadata": {},
   "outputs": [
    {
     "name": "stdout",
     "output_type": "stream",
     "text": [
      "Actualmente hay  11 Planetas. El último es:  Pluto\n"
     ]
    }
   ],
   "source": [
    "planetas.append(\"Pluto\")\n",
    "print(\"Actualmente hay \", num_planetas , \"Planetas. El último es: \" , planetas[-1])\n"
   ]
  },
  {
   "cell_type": "code",
   "execution_count": 38,
   "metadata": {},
   "outputs": [
    {
     "name": "stdout",
     "output_type": "stream",
     "text": [
      "['Mercury', 'Venus', 'Tierra', 'Marte', 'Jupiter', 'Saturno', 'Urano', 'Neptuno', 'Pluto']\n"
     ]
    }
   ],
   "source": [
    "print(planetas)\n"
   ]
  },
  {
   "cell_type": "code",
   "execution_count": null,
   "metadata": {},
   "outputs": [],
   "source": [
    "planetas.pop() #Pa borrar"
   ]
  }
 ],
 "metadata": {
  "kernelspec": {
   "display_name": "Python 3",
   "language": "python",
   "name": "python3"
  },
  "language_info": {
   "codemirror_mode": {
    "name": "ipython",
    "version": 3
   },
   "file_extension": ".py",
   "mimetype": "text/x-python",
   "name": "python",
   "nbconvert_exporter": "python",
   "pygments_lexer": "ipython3",
   "version": "3.10.7"
  },
  "orig_nbformat": 4
 },
 "nbformat": 4,
 "nbformat_minor": 2
}
