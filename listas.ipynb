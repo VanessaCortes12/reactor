{
 "cells": [
  {
   "cell_type": "code",
   "execution_count": null,
   "metadata": {},
   "outputs": [],
   "source": []
  },
  {
   "attachments": {},
   "cell_type": "markdown",
   "metadata": {},
   "source": [
    "# Presentación de listas\n",
    "Python tiene muchos tipos integrados, como cadenas y enteros. También tiene un tipo para almacenar una colección de valores: la lista.\n",
    "\n",
    "# Crear una lista\n",
    "Para crear una lista, asigne una secuencia de valores a una variable. Cada valor está separado por una coma y están entre corchetes ([]). En el ejemplo siguiente se almacena la lista de todos los planetas de la variable planets:"
   ]
  },
  {
   "cell_type": "code",
   "execution_count": 1,
   "metadata": {},
   "outputs": [],
   "source": [
    "planetas = [\"Mercurio\",\"Venus\",\"Tierra\",\"Marte\",\"Jupiter\",\"Saturno\",\"Urano\",\"Neptuno\"]"
   ]
  },
  {
   "attachments": {},
   "cell_type": "markdown",
   "metadata": {},
   "source": [
    "# Acceso a elementos de lista por índice\n",
    "Puede acceder a cualquier elemento de una lista colocando el índice entre corchetes [] después del nombre de la variable de lista. Los índices comienzan a partir de 0, por lo que en el código siguiente, planets[0] es el primer elemento de la lista planets:"
   ]
  },
  {
   "cell_type": "code",
   "execution_count": 6,
   "metadata": {},
   "outputs": [
    {
     "name": "stdout",
     "output_type": "stream",
     "text": [
      "El primer planeta es Mercurio\n",
      "El segundo planeta es Venus\n",
      "El tercer planeta es Tierra\n",
      "El primer planeta es  Mercurio\n"
     ]
    }
   ],
   "source": [
    "print(\"El primer planeta es \" + planetas[0])\n",
    "print(\"El segundo planeta es \" + planetas[1])\n",
    "print(\"El tercer planeta es \" + planetas[2])\n",
    "\n",
    "print(\"El primer planeta es \" , planetas[0])\n"
   ]
  },
  {
   "attachments": {},
   "cell_type": "markdown",
   "metadata": {},
   "source": [
    "Dado que todos los índices empiezan por 0, [1] es el segundo elemento, [2] es el tercero, etc.\n",
    "\n",
    "También puede modificar valores de una lista mediante un índice. Para ello, asigne un nuevo valor, de la misma manera que asignaría un valor de variable. Por ejemplo, podría cambiar el nombre de Marte en la lista para usar su alias:"
   ]
  },
  {
   "cell_type": "code",
   "execution_count": 8,
   "metadata": {},
   "outputs": [
    {
     "name": "stdout",
     "output_type": "stream",
     "text": [
      "En inglés Mercurio es:  Mercury\n"
     ]
    }
   ],
   "source": [
    "planetas[0] = \"Mercury\"\n",
    "print(\"En inglés Mercurio es: \" , planetas[0])"
   ]
  },
  {
   "attachments": {},
   "cell_type": "markdown",
   "metadata": {},
   "source": [
    "Determinación de la longitud de una lista\n",
    "Para obtener la longitud de una lista, use la función integrada len(). El código siguiente crea una variable, number_of_planets. El código asigna esa variable con el número de elementos de la lista planets (8)."
   ]
  },
  {
   "cell_type": "code",
   "execution_count": 19,
   "metadata": {},
   "outputs": [
    {
     "name": "stdout",
     "output_type": "stream",
     "text": [
      "El número de planetas en la lista son: 11\n",
      "El número de planetas en la lista son:  11\n"
     ]
    }
   ],
   "source": [
    "num_planetas = len(planetas)\n",
    "print(\"El número de planetas en la lista son: \" +  str(num_planetas))\n",
    "print(\"El número de planetas en la lista son: \" , num_planetas)"
   ]
  },
  {
   "attachments": {},
   "cell_type": "markdown",
   "metadata": {},
   "source": [
    "Incorporación de valores a listas\n",
    "Las listas de Python son dinámicas: puede agregar y quitar elementos después de crearlas. Para agregar un elemento a una lista, use el método .append(value).\n",
    "\n",
    "Por ejemplo, el código siguiente agrega la cadena \"Pluto\" al final de la lista planets:"
   ]
  },
  {
   "cell_type": "code",
   "execution_count": 24,
   "metadata": {},
   "outputs": [
    {
     "name": "stdout",
     "output_type": "stream",
     "text": [
      "16\n"
     ]
    }
   ],
   "source": [
    "planetas.append(\"Pluto\")\n",
    "number_of_planets = len(planetas)\n",
    "print(number_of_planets)"
   ]
  },
  {
   "attachments": {},
   "cell_type": "markdown",
   "metadata": {},
   "source": [
    "Eliminación de valores de listas\n",
    "Puede quitar el último elemento de una lista llamando al método .pop() en la variable de lista:"
   ]
  },
  {
   "cell_type": "code",
   "execution_count": 31,
   "metadata": {},
   "outputs": [
    {
     "name": "stdout",
     "output_type": "stream",
     "text": [
      "No, there are definitely 9 planets in the solar system.\n",
      "['Mercury', 'Venus', 'Tierra', 'Marte', 'Jupiter', 'Saturno', 'Urano', 'Neptuno', 'Pluto']\n"
     ]
    }
   ],
   "source": [
    "planetas.pop()  # Goodbye, Pluto\n",
    "number_of_planets = len(planetas)\n",
    "print(\"No, there are definitely\", number_of_planets, \"planets in the solar system.\")\n",
    "print(planetas)"
   ]
  },
  {
   "attachments": {},
   "cell_type": "markdown",
   "metadata": {},
   "source": [
    "Uso de índices negativos\n",
    "Ha visto cómo usar índices para capturar un elemento individual en una lista:"
   ]
  },
  {
   "cell_type": "code",
   "execution_count": 32,
   "metadata": {},
   "outputs": [
    {
     "name": "stdout",
     "output_type": "stream",
     "text": [
      "The first planet is Mercury\n"
     ]
    }
   ],
   "source": [
    "print(\"The first planet is\", planetas[0])\n",
    "\n",
    "# Output:\n",
    "# The first planet is Mercury"
   ]
  },
  {
   "attachments": {},
   "cell_type": "markdown",
   "metadata": {},
   "source": [
    "Los índices comienzan en cero y van en aumento. Los índices negativos comienzan al final de la lista y van hacia atrás.\n",
    "\n",
    "En el ejemplo siguiente, un índice de -1 devuelve el último elemento de una lista. Un índice de -2 devuelve el penúltimo."
   ]
  },
  {
   "cell_type": "code",
   "execution_count": 33,
   "metadata": {},
   "outputs": [
    {
     "name": "stdout",
     "output_type": "stream",
     "text": [
      "The last planet is Pluto\n",
      "The penultimate planet is Neptuno\n"
     ]
    }
   ],
   "source": [
    "print(\"The last planet is\", planetas[-1])\n",
    "print(\"The penultimate planet is\", planetas[-2])\n",
    "\n",
    "# Output\n",
    "# The last planet is Neptune\n",
    "# The penultimate planet is Uranus"
   ]
  },
  {
   "attachments": {},
   "cell_type": "markdown",
   "metadata": {},
   "source": [
    "Si quisiera devolver el antepenúltimo, usaría un índice de -3 (y así sucesivamente)."
   ]
  },
  {
   "attachments": {},
   "cell_type": "markdown",
   "metadata": {},
   "source": [
    "Búsqueda de un valor en una lista\n",
    "Para determinar dónde se almacena un valor en una lista, use el método index de la lista. Este método busca el valor y devuelve el índice de ese elemento en la lista. Si no encuentra ninguna coincidencia, devuelve -1.\n",
    "\n",
    "En el ejemplo siguiente se muestra el uso de \"Jupiter\" como el valor del índice:"
   ]
  },
  {
   "cell_type": "code",
   "execution_count": 34,
   "metadata": {},
   "outputs": [
    {
     "name": "stdout",
     "output_type": "stream",
     "text": [
      "Jupiter is the 5 planet from the sun\n"
     ]
    }
   ],
   "source": [
    "jupiter_index = planetas.index(\"Jupiter\")\n",
    "print(\"Jupiter is the\", jupiter_index + 1, \"planet from the sun\")\n",
    "\n",
    "# Output\n",
    "# Jupiter is the 5 planet from the sun"
   ]
  },
  {
   "attachments": {},
   "cell_type": "markdown",
   "metadata": {},
   "source": [
    "Dado que la indexación comienza por 0, debe agregar 1 para mostrar el número adecuado."
   ]
  },
  {
   "attachments": {},
   "cell_type": "markdown",
   "metadata": {},
   "source": [
    "# Ejercicio: Creación y uso de listas de Python\n",
    "\n",
    "\n",
    "Ejercicio: Usa listas para almacenar nombres de planetas\n",
    "Las listas le permiten almacenar múltiples valores en una sola variable. En este cuaderno, creará un proyecto para mostrar información sobre los planetas.\n",
    "\n",
    "Este ejercicio se divide en una serie de pasos. Para cada paso, se le presentará el objetivo del paso, seguido de una celda vacía. Ingrese su Python en la celda y ejecútelo. La solución para cada paso seguirá a cada celda.\n",
    "\n",
    "Agregar todos los planetas a una lista\n",
    "Primero, crea una variable llamada planets. Agregue los ocho planetas (sin Plutón) a la lista. Los planetas son:\n",
    "\n",
    "Mercurio\n",
    "Venus\n",
    "Tierra\n",
    "Marte\n",
    "Júpiter\n",
    "Saturno\n",
    "Urano\n",
    "Neptuno\n",
    "Termine usando printpara mostrar la lista de planetas."
   ]
  },
  {
   "cell_type": "code",
   "execution_count": null,
   "metadata": {},
   "outputs": [],
   "source": [
    "planetas = [\"Mercurio\",\"Venus\",\"Tierra\",\"Marte\",\"Jupiter\",\"Saturno\",\"Urano\",\"Neptuno\"]\n",
    "\n",
    "print(planetas)"
   ]
  },
  {
   "attachments": {},
   "cell_type": "markdown",
   "metadata": {},
   "source": [
    "\n",
    "Mostrar el número de planetas\n",
    "A continuación, muestre el número total de planetsusando leny print."
   ]
  },
  {
   "cell_type": "code",
   "execution_count": null,
   "metadata": {},
   "outputs": [],
   "source": [
    "# Enter your code below:\n",
    "num_planetas = len(planetas)\n",
    "print(\"El número de planetas son\" , num_planetas)"
   ]
  },
  {
   "attachments": {},
   "cell_type": "markdown",
   "metadata": {},
   "source": [
    "\n",
    "Agregar un planeta a la lista\n",
    "Finalmente, agregue Plutón a la lista que creó. A continuación, muestra tanto el número de planetas como el último planeta de la lista."
   ]
  },
  {
   "cell_type": "code",
   "execution_count": 35,
   "metadata": {},
   "outputs": [
    {
     "name": "stdout",
     "output_type": "stream",
     "text": [
      "Actualmente hay  11 Planetas. El último es:  Pluto\n"
     ]
    }
   ],
   "source": [
    "planetas.append(\"Pluto\")\n",
    "print(\"Actualmente hay \", num_planetas , \"Planetas. El último es: \" , planetas[-1])\n"
   ]
  },
  {
   "cell_type": "code",
   "execution_count": 38,
   "metadata": {},
   "outputs": [
    {
     "name": "stdout",
     "output_type": "stream",
     "text": [
      "['Mercury', 'Venus', 'Tierra', 'Marte', 'Jupiter', 'Saturno', 'Urano', 'Neptuno', 'Pluto']\n"
     ]
    }
   ],
   "source": [
    "print(planetas)\n"
   ]
  },
  {
   "cell_type": "code",
   "execution_count": null,
   "metadata": {},
   "outputs": [],
   "source": [
    "planetas.pop() #Pa borrar\n"
   ]
  },
  {
   "attachments": {},
   "cell_type": "markdown",
   "metadata": {},
   "source": [
    "# Trabajo con números en listas\n",
    "\n",
    "Hasta ahora, ha estado usando nombres de planetas en una lista. Es posible que se pregunte si trabaja con otros tipos de datos, como números.\n",
    "\n",
    "¿Sabía que la gravedad en otros planetas es más fuerte o más débil en función de la masa o el tamaño del planeta? La gravedad a menudo se mide en G, donde la gravedad en la Tierra es 1 y otros planetas se miden en relación con la Tierra.\n",
    "\n",
    "La gravedad en la Luna es de 0,166 G, por este motivo los astronautas pueden saltar tan alto sobre la Luna. La gravedad en Neptuno es de 1,12 G, por lo que saltar es más difícil. Incluso los grandes atletas tendrían dificultades para saltar más de 2 metros en Neptuno."
   ]
  },
  {
   "attachments": {},
   "cell_type": "markdown",
   "metadata": {},
   "source": [
    "# Almacenamiento de números en listas\n",
    "Para almacenar números con decimales en Python, se debe usar el tipo float. Para crear un valor float, escriba el número con la posición decimal y asígnelo a una variable:"
   ]
  },
  {
   "cell_type": "code",
   "execution_count": 46,
   "metadata": {},
   "outputs": [],
   "source": [
    "gravedad_en_tierra = 1.0\n",
    "gravedad_en_luna = 0.166"
   ]
  },
  {
   "cell_type": "code",
   "execution_count": 45,
   "metadata": {},
   "outputs": [],
   "source": [
    "gravedad_en_planetas = [0.378, 0.907, 1, 0.377, 2.36, 0.916, 0.889, 1.12]\n"
   ]
  },
  {
   "attachments": {},
   "cell_type": "markdown",
   "metadata": {},
   "source": [
    "En esta lista, gravedad_en_planetas[0] es la gravedad en Mercurio (0,378 G), gravedad_en_planetas[1] es la gravedad en Venus (0,907 G), y así sucesivamente.\n",
    "\n",
    "En la Tierra, un autobús de dos pisos pesa 12 650 kilogramos (kg), es decir, 12,65 toneladas. En Mercurio, donde la gravedad es de 0,378 G, el mismo autobús pesa 12,65 toneladas multiplicado por 0,378. En Python, para multiplicar dos valores, se usa el símbolo *.\n",
    "\n",
    "En el ejemplo siguiente, puede averiguar el peso de un autobús de dos pisos en diferentes planetas obteniendo el valor de la lista:"
   ]
  },
  {
   "cell_type": "code",
   "execution_count": 49,
   "metadata": {},
   "outputs": [
    {
     "name": "stdout",
     "output_type": "stream",
     "text": [
      "El peso del autobus en la tierra es de:  12650 kilogramos\n",
      "El peso de del autobues en mercurio es de:  4781.7 kilogramos\n"
     ]
    }
   ],
   "source": [
    "peso_autobus = 12650 #kilogramos\n",
    "\n",
    "print(\"El peso del autobus en la tierra es de: \" , peso_autobus , \"kilogramos\")\n",
    "print(\"El peso de del autobues en mercurio es de: \" , peso_autobus * gravedad_en_planetas[0] , \"kilogramos\")"
   ]
  },
  {
   "attachments": {},
   "cell_type": "markdown",
   "metadata": {},
   "source": [
    "# Uso de min() y max() con listas\n",
    "Python tiene funciones integradas para calcular los números más grandes y más pequeños de una lista. La función max() devuelve el número más grande y min() devuelve el más pequeño. Por lo tanto, min(gravity_on_planets) devuelve el número más pequeño de la lista gravity_on_planets, que es 0,377 (Marte).\n",
    "\n",
    "El código siguiente calcula los pesos mínimo y máximo en el sistema solar mediante esas funciones:"
   ]
  },
  {
   "cell_type": "code",
   "execution_count": 50,
   "metadata": {},
   "outputs": [
    {
     "name": "stdout",
     "output_type": "stream",
     "text": [
      "En la Tierra, un autobús de dos pisos pesa 12650 kg\n",
      "Lo más ligero que sería un autobús en el sistema solar es 4769.05 kg\n",
      "Lo más pesado que sería un autobús en el sistema solar es 29854.0 kg\n"
     ]
    }
   ],
   "source": [
    "peso_autobus = 12650 # in kilograms, on Earth\n",
    "\n",
    "print(\"En la Tierra, un autobús de dos pisos pesa\", peso_autobus, \"kg\")\n",
    "print(\"Lo más ligero que sería un autobús en el sistema solar es\", peso_autobus * min(gravedad_en_planetas), \"kg\")\n",
    "print(\"Lo más pesado que sería un autobús en el sistema solar es\", peso_autobus * max(gravedad_en_planetas), \"kg\")\n",
    "\n",
    "# Output\n",
    "# On Earth, a double-decker bus weighs 12650 kg\n",
    "# The lightest a bus would be in the solar system is 4769.05 kg\n",
    "# The heaviest a bus would be in the solar system is 29854 kg"
   ]
  },
  {
   "attachments": {},
   "cell_type": "markdown",
   "metadata": {},
   "source": [
    "# Manipulación de datos de la lista\n",
    "\n",
    "Es posible que tenga que trabajar con distintas partes de una lista. Por ejemplo, suponga que tiene una lista con cantidades de precipitaciones durante varios meses. Para analizar correctamente este tipo de datos, es posible que tenga que buscar las precipitaciones en otoño o en un periodo de tres meses. También puede que quiera ordenar la lista de mayor a menor cantidad de precipitaciones.\n",
    "\n",
    "Python proporciona una compatibilidad sólida para trabajar con los datos de las listas. Esta compatibilidad incluye la segmentación de datos (examinando solo una parte) y la ordenación."
   ]
  },
  {
   "attachments": {},
   "cell_type": "markdown",
   "metadata": {},
   "source": [
    "Segmentación de listas\n",
    "Puede recuperar una parte de una lista mediante una segmentación. Una segmentación usa corchetes, pero en lugar de un solo elemento, tiene los índices inicial y final. Cuando se usa una segmentación, se crea una lista que comienza en el índice inicial y termina antes del índice final (y no lo incluye).\n",
    "\n",
    "La lista de planetas tiene ocho elementos. La Tierra es el tercero de la lista. Para mostrar los planetas que hay antes de la Tierra, use una segmentación a fin de obtener los elementos que empiezan en 0 y terminan en 2:\n",
    "|"
   ]
  },
  {
   "cell_type": "code",
   "execution_count": 60,
   "metadata": {},
   "outputs": [
    {
     "name": "stdout",
     "output_type": "stream",
     "text": [
      "['Mercury', 'Venus']\n"
     ]
    }
   ],
   "source": [
    "planetas = [\"Mercury\", \"Venus\", \"Earth\", \"Mars\", \"Jupiter\", \"Saturn\", \"Uranus\", \"Neptune\"]\n",
    "planetas_antes_de_tierra = planetas[0:2] #La cantidad de elementos  \n",
    "print(planetas_antes_de_tierra)\n",
    "\n",
    "# Output: ['Mercury', 'Venus']"
   ]
  },
  {
   "attachments": {},
   "cell_type": "markdown",
   "metadata": {},
   "source": [
    "Observe cómo la Tierra no está incluida en la lista. El motivo es que el índice finaliza antes del índice final.\n",
    "\n",
    "Para obtener todos los planetas después de la Tierra, comience en el tercero y vaya hasta el octavo:"
   ]
  },
  {
   "cell_type": "code",
   "execution_count": 65,
   "metadata": {},
   "outputs": [
    {
     "name": "stdout",
     "output_type": "stream",
     "text": [
      "['Mars', 'Jupiter', 'Saturn', 'Uranus', 'Neptune']\n"
     ]
    }
   ],
   "source": [
    "planetas = [\"Mercury\", \"Venus\", \"Earth\", \"Mars\", \"Jupiter\", \"Saturn\", \"Uranus\", \"Neptune\"]\n",
    "planetas_despues_de_tierra = planetas[3:8] #La cantidad de elementos  \n",
    "print(planetas_despues_de_tierra)"
   ]
  },
  {
   "attachments": {},
   "cell_type": "markdown",
   "metadata": {},
   "source": [
    "En este ejemplo, se muestra Neptuno. La razón es que el índice de Neptuno es 7, porque la indexación comienza en 0. Dado que el índice final era 8, incluye el último valor. Si no coloca el índice de detención en la segmentación, Python asume que quiere ir al final de la lista:"
   ]
  },
  {
   "cell_type": "code",
   "execution_count": 63,
   "metadata": {},
   "outputs": [
    {
     "name": "stdout",
     "output_type": "stream",
     "text": [
      "['Mars', 'Jupiter', 'Saturn', 'Uranus', 'Neptune']\n"
     ]
    }
   ],
   "source": [
    "planetas_despues_de_tierra = planetas[3:]\n",
    "print(planetas_despues_de_tierra)"
   ]
  },
  {
   "attachments": {},
   "cell_type": "markdown",
   "metadata": {},
   "source": [
    "Una segmentación crea una lista nueva. No modifica la lista actual."
   ]
  },
  {
   "attachments": {},
   "cell_type": "markdown",
   "metadata": {},
   "source": [
    "# Combinación de listas\n",
    "Ha visto cómo puede usar segmentaciones para dividir listas, pero ¿qué sucede con unirlas de nuevo?\n",
    "\n",
    "Para unir dos listas, debe usar el otro operador (+) con dos listas para devolver una nueva.\n",
    "\n",
    "Hay 79 lunas conocidas de Júpiter. Las cuatro más grandes son Ío, Europa, Ganímedes y Calisto. Estas lunas se denominan lunas galileanas, ya que Galileo Galilei las descubrió con su telescopio en 1610. El grupo de Amaltea está más cerca de Júpiter que el grupo galileano. Consta de las lunas Metis, Adrastea, Amaltea y Tebe.\n",
    "\n",
    "Cree dos listas. Rellene la primera lista con las cuatro lunas de Amaltea y la segunda lista con las cuatro lunas galileanas. Únalas mediante + para crear una lista:"
   ]
  },
  {
   "cell_type": "code",
   "execution_count": 66,
   "metadata": {},
   "outputs": [
    {
     "name": "stdout",
     "output_type": "stream",
     "text": [
      "The regular satellite moons of Jupiter are ['Metis', 'Adrastea', 'Amalthea', 'Thebe', 'Io', 'Europa', 'Ganymede', 'Callisto']\n"
     ]
    }
   ],
   "source": [
    "amalthea_group = [\"Metis\", \"Adrastea\", \"Amalthea\", \"Thebe\"]\n",
    "galilean_moons = [\"Io\", \"Europa\", \"Ganymede\", \"Callisto\"]\n",
    "\n",
    "regular_satellite_moons = amalthea_group + galilean_moons\n",
    "print(\"The regular satellite moons of Jupiter are\", regular_satellite_moons)\n",
    "\n",
    "# Output\n",
    "# The regular satellite moons of Jupiter are ['Metis', 'Adrastea', 'Amalthea', 'Thebe', 'Io', 'Europa', 'Ganymede', 'Callisto']"
   ]
  },
  {
   "attachments": {},
   "cell_type": "markdown",
   "metadata": {},
   "source": [
    "La unión de listas crean una lista nueva. No modifica la lista actual."
   ]
  },
  {
   "attachments": {},
   "cell_type": "markdown",
   "metadata": {},
   "source": [
    "Ordenación de listas\n",
    "Para ordenar una lista, use el método .sort() de la lista. Python ordenará una lista de cadenas en orden alfabético y una lista de números en orden numérico:"
   ]
  },
  {
   "cell_type": "code",
   "execution_count": 67,
   "metadata": {},
   "outputs": [
    {
     "name": "stdout",
     "output_type": "stream",
     "text": [
      "The regular satellite moons of Jupiter are ['Adrastea', 'Amalthea', 'Callisto', 'Europa', 'Ganymede', 'Io', 'Metis', 'Thebe']\n"
     ]
    }
   ],
   "source": [
    "regular_satellite_moons.sort()\n",
    "print(\"The regular satellite moons of Jupiter are\", regular_satellite_moons)\n",
    "\n",
    "# Output\n",
    "# The regular satellite moons of Jupiter are ['Adrastea', 'Amalthea', 'Callisto', 'Europa', 'Ganymede', 'Io', 'Metis', 'Thebe']"
   ]
  },
  {
   "attachments": {},
   "cell_type": "markdown",
   "metadata": {},
   "source": [
    "Para ordenar una lista en orden inverso, llame a .sort(reverse=True) en la lista:"
   ]
  },
  {
   "cell_type": "code",
   "execution_count": 68,
   "metadata": {},
   "outputs": [
    {
     "name": "stdout",
     "output_type": "stream",
     "text": [
      "The regular satellite moons of Jupiter are ['Thebe', 'Metis', 'Io', 'Ganymede', 'Europa', 'Callisto', 'Amalthea', 'Adrastea']\n"
     ]
    }
   ],
   "source": [
    "regular_satellite_moons.sort(reverse=True)\n",
    "print(\"The regular satellite moons of Jupiter are\", regular_satellite_moons)\n",
    "\n",
    "# Output\n",
    "# The regular satellite moons of Jupiter are ['Thebe', 'Metis', 'Io', 'Ganymede', 'Europa', 'Callisto', 'Amalthea', 'Adrastea']"
   ]
  },
  {
   "attachments": {},
   "cell_type": "markdown",
   "metadata": {},
   "source": [
    "# Ejercicio: Trabajo con datos de lista\n",
    "\n",
    "Utilice sectores para recuperar partes de una lista\n",
    "Es posible que deba trabajar en diferentes secciones de una lista. En este cuaderno, creará un proyecto para mostrar los planetas más cerca y más lejos del sol que un planeta que ingresa el usuario.\n",
    "\n",
    "Este ejercicio se divide en una serie de pasos. Para cada paso, se le presentará el objetivo del paso, seguido de una celda vacía. Ingrese su Python en la celda y ejecútelo. La solución para cada paso seguirá a cada celda.\n",
    "\n",
    "Crear la lista de planetas\n",
    "Primero, crea una variable llamada planets. Agregue los ocho planetas (sin Plutón) a la lista. Los planetas son:\n",
    "\n",
    "Mercurio\n",
    "Venus\n",
    "Tierra\n",
    "Marte\n",
    "Júpiter\n",
    "Saturno\n",
    "Urano\n",
    "Neptuno\n"
   ]
  },
  {
   "cell_type": "code",
   "execution_count": 71,
   "metadata": {},
   "outputs": [],
   "source": [
    "# Enter your code below\n",
    "planetas = [\"Mercurio\",\"Venus\",\"Tierra\",\"Marte\",\"Jupiter\",\"Saturno\",\"Urano\",\"Neptuno\"]"
   ]
  },
  {
   "attachments": {},
   "cell_type": "markdown",
   "metadata": {},
   "source": [
    "Preguntar al usuario por el planeta de referencia\n",
    "A continuación, agregará el código para solicitar al usuario el nombre de un planeta. Lo harás usando input. Debido a que las cadenas distinguen entre mayúsculas y minúsculas en Python, solicite al usuario que use una letra mayúscula para comenzar el nombre del planeta."
   ]
  },
  {
   "cell_type": "code",
   "execution_count": 70,
   "metadata": {},
   "outputs": [
    {
     "name": "stdout",
     "output_type": "stream",
     "text": [
      "Marte\n"
     ]
    }
   ],
   "source": [
    "# Enter code below  \n",
    "user_input = input(\"Por favor inserte el nombre del planeta\")\n",
    "#lower_input = user_input.lower()\n",
    "#print(lower_input)\n",
    "print(user_input)"
   ]
  },
  {
   "attachments": {},
   "cell_type": "markdown",
   "metadata": {},
   "source": [
    "\n",
    "Encuentra la ubicación del planeta seleccionado\n",
    "Ahora es el momento de determinar qué planetas están más cerca que el que ingresó el usuario. Para hacer esto, necesitas encontrar dónde está el planeta en la lista. Puede utilizar el indexmétodo para realizar esta operación. Agregue el código para encontrar el índice del planeta y guárdelo en una variable llamada planet_index."
   ]
  },
  {
   "cell_type": "code",
   "execution_count": 72,
   "metadata": {},
   "outputs": [
    {
     "name": "stdout",
     "output_type": "stream",
     "text": [
      "3\n"
     ]
    }
   ],
   "source": [
    "# Enter code below\n",
    "planeta_index = planetas.index(user_input)\n",
    "print(planeta_index)"
   ]
  },
  {
   "attachments": {},
   "cell_type": "markdown",
   "metadata": {},
   "source": [
    "\n",
    "Mostrar planetas más cerca del sol\n",
    "Con el índice determinado, ahora puede agregar el código para mostrar los planetas más cerca del sol que el seleccionado. Utilice las capacidades de corte de una lista para mostrar todos los planetas hasta el seleccionado."
   ]
  },
  {
   "cell_type": "code",
   "execution_count": null,
   "metadata": {},
   "outputs": [],
   "source": [
    "# Enter code below\n",
    "print(\"Aqui están los planetas más cercanos a: \" + user_input)\n",
    "print(planetas[0:planeta_index])"
   ]
  },
  {
   "attachments": {},
   "cell_type": "markdown",
   "metadata": {},
   "source": [
    "\n",
    "Mostrar más planetas\n",
    "Puede usar el mismo índice para mostrar los planetas más alejados del sol. Sin embargo, recuerde que el índice de inicio se incluye cuando utiliza un segmento. Como resultado, deberá agregar 1 al valor. Agregue el código para mostrar los planetas más alejados del sol."
   ]
  },
  {
   "cell_type": "code",
   "execution_count": null,
   "metadata": {},
   "outputs": [],
   "source": []
  },
  {
   "cell_type": "code",
   "execution_count": null,
   "metadata": {},
   "outputs": [],
   "source": [
    "# Enter code below\n",
    "\n",
    "print(\"Aqui los planetas más alejados que \" + user_input)\n",
    "print(planetas[planeta_index + 1 :])"
   ]
  }
 ],
 "metadata": {
  "kernelspec": {
   "display_name": "Python 3",
   "language": "python",
   "name": "python3"
  },
  "language_info": {
   "codemirror_mode": {
    "name": "ipython",
    "version": 3
   },
   "file_extension": ".py",
   "mimetype": "text/x-python",
   "name": "python",
   "nbconvert_exporter": "python",
   "pygments_lexer": "ipython3",
   "version": "3.10.7"
  },
  "orig_nbformat": 4
 },
 "nbformat": 4,
 "nbformat_minor": 2
}
