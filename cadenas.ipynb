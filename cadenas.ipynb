{
 "cells": [
  {
   "attachments": {},
   "cell_type": "markdown",
   "metadata": {},
   "source": [
    "# Aspectos básicos de las cadenas en Python\n",
    "\n",
    "Aunque las cadenas en Python parecen ser sencillas, hay cierta complejidad en las reglas de las cadenas que es importante comprender. El conocimiento de las reglas ayuda a evitar que le sorprenda el comportamiento de las cadenas al modificar valores o dar formato al texto.\n",
    "\n",
    "Inmutabilidad de las cadenas\n",
    "En Python, las cadenas son inmutables. Es decir, no pueden cambiar. Esta propiedad del tipo de cadena puede ser sorprendente, ya que Python no proporciona errores al modificar cadenas.\n",
    "\n",
    "En el ejemplo de este módulo, tiene un único hecho sobre la Luna que está asignado a una variable y debe agregarle otro hecho (una oración). Parece que agregar el segundo hecho podría modificar la variable, tal como en el ejemplo siguiente:"
   ]
  },
  {
   "cell_type": "code",
   "execution_count": 20,
   "metadata": {},
   "outputs": [
    {
     "name": "stdout",
     "output_type": "stream",
     "text": [
      "La luna no tiene atmósfera.\n",
      "La luna no tiene atmósfera.El sonido no puede ser escuchado en la luna.\n"
     ]
    }
   ],
   "source": [
    "hecho = \"La luna no tiene atmósfera.\"\n",
    "hecho + \"El sonido no puede ser escuchado en la luna.\"\n",
    "\n",
    "# Aunque podría parecer que se ha modificado la variable fact, una comprobación rápida del valor revela que el valor original no ha cambiado:\n",
    "print(hecho)\n",
    "\n",
    "# Aquí el truco es que se debe usar un valor devuelto. Al agregar cadenas, Python no modifica ninguna, sino que devuelve una cadena nueva como resultado. Para mantener este resultado nuevo, asígnelo a una nueva variable:\n",
    "hecho_dos = hecho + \"El sonido no puede ser escuchado en la luna.\"\n",
    "print(hecho_dos)\n",
    "\n"
   ]
  },
  {
   "attachments": {},
   "cell_type": "markdown",
   "metadata": {},
   "source": [
    "# Acerca del uso de comillas\n",
    "\n",
    "Puede incluir las cadenas de Python entre comillas simples, dobles o triples. Aunque se pueden usar indistintamente, es mejor utilizar un tipo de forma coherente dentro de un proyecto. Por ejemplo, en la cadena siguiente se usan comillas dobles:"
   ]
  },
  {
   "cell_type": "code",
   "execution_count": 21,
   "metadata": {},
   "outputs": [],
   "source": [
    "radio_de_luna = \"La Luna tiene un radio de 1.080 millas\""
   ]
  },
  {
   "attachments": {},
   "cell_type": "markdown",
   "metadata": {},
   "source": [
    "Pero cuando una cadena contiene palabras, números o caracteres especiales (una subcadena) que también se incluyen entre comillas, debe usar otro estilo. Por ejemplo, si en una subcadena se usan comillas dobles, incluya toda la cadena entre comillas simples, como se muestra aquí:"
   ]
  },
  {
   "cell_type": "code",
   "execution_count": 22,
   "metadata": {},
   "outputs": [],
   "source": [
    "radio_de_luna = 'El \"lado cercano\" es la parte de la Luna que mira hacia la Tierra'"
   ]
  },
  {
   "attachments": {},
   "cell_type": "markdown",
   "metadata": {},
   "source": [
    "Del mismo modo, si en alguna parte de la cadena hay comillas simples (o un apóstrofo, como en Moon's en el ejemplo siguiente), incluya toda la cadena entre comillas dobles:"
   ]
  },
  {
   "cell_type": "code",
   "execution_count": 24,
   "metadata": {},
   "outputs": [
    {
     "name": "stdout",
     "output_type": "stream",
     "text": [
      "We only see about 60% of the Moon's surface\n"
     ]
    }
   ],
   "source": [
    "radio_de_luna = \"We only see about 60% of the Moon's surface\"\n",
    "print(radio_de_luna)"
   ]
  },
  {
   "attachments": {
    "image.png": {
     "image/png": "[encoded data removed]"
    }
   },
   "cell_type": "markdown",
   "metadata": {},
   "source": [
    "![image.png](attachment:image.png)"
   ]
  },
  {
   "attachments": {},
   "cell_type": "markdown",
   "metadata": {},
   "source": [
    "Cuando el texto tiene una combinación de comillas simples y dobles, puede usar comillas triples para evitar problemas con el intérprete:"
   ]
  },
  {
   "cell_type": "code",
   "execution_count": 26,
   "metadata": {},
   "outputs": [
    {
     "name": "stdout",
     "output_type": "stream",
     "text": [
      "We only see about 60% of the Moon's surface, this is known as the \"near side\".\n"
     ]
    }
   ],
   "source": [
    "var_texto = \"\"\"We only see about 60% of the Moon's surface, this is known as the \"near side\".\"\"\"\n",
    "print(var_texto)"
   ]
  },
  {
   "attachments": {},
   "cell_type": "markdown",
   "metadata": {},
   "source": [
    "Texto multilínea\n",
    "Hay diferentes maneras de definir varias líneas de texto como una sola variable. Las más comunes son las siguientes:\n",
    "\n",
    "Usar un carácter de nueva línea (\\n).\n",
    "Usar comillas triples (\"\"\").\n",
    "Los caracteres de nueva línea separan el texto en varias líneas al imprimir la salida:"
   ]
  },
  {
   "cell_type": "code",
   "execution_count": 30,
   "metadata": {},
   "outputs": [
    {
     "name": "stdout",
     "output_type": "stream",
     "text": [
      "Hechos sobre la luna: \n",
      " No hay atmosfera. \n",
      " No Hay sonido\n"
     ]
    }
   ],
   "source": [
    "multiline = \"Hechos sobre la luna: \\n No hay atmosfera. \\n No Hay sonido\"\n",
    "print(multiline)"
   ]
  },
  {
   "attachments": {},
   "cell_type": "markdown",
   "metadata": {},
   "source": [
    "Puede lograr el mismo resultado con las comillas triples:"
   ]
  },
  {
   "cell_type": "code",
   "execution_count": 28,
   "metadata": {},
   "outputs": [
    {
     "name": "stdout",
     "output_type": "stream",
     "text": [
      "Facts about the Moon:\n",
      "Otra linea de texto\n",
      "Una más\n",
      "There is no atmosphere.\n",
      "There is no sound.\n"
     ]
    }
   ],
   "source": [
    "multiline = \"\"\"Facts about the Moon:\n",
    "Otra linea de texto\n",
    "Una más\n",
    "There is no atmosphere.\n",
    "There is no sound.\"\"\"\n",
    "print(multiline)"
   ]
  }
 ],
 "metadata": {
  "kernelspec": {
   "display_name": "Python 3",
   "language": "python",
   "name": "python3"
  },
  "language_info": {
   "codemirror_mode": {
    "name": "ipython",
    "version": 3
   },
   "file_extension": ".py",
   "mimetype": "text/x-python",
   "name": "python",
   "nbconvert_exporter": "python",
   "pygments_lexer": "ipython3",
   "version": "3.10.7"
  },
  "orig_nbformat": 4
 },
 "nbformat": 4,
 "nbformat_minor": 2
}
