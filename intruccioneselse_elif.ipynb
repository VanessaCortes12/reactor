{
 "cells": [
  {
   "attachments": {},
   "cell_type": "markdown",
   "metadata": {},
   "source": [
    "# Else y Elif\n",
    "\n",
    "¿Qué ocurre si también quiere que el programa ejecute un fragmento de código cuando la expresión de prueba es False? ¿O bien, qué ocurre si quiere incluir otra expresión de prueba? Python tiene otras palabras clave que puede usar para crear instrucciones if más complejas, else y elif. Al usar if, else y elif de forma conjunta, puede escribir programas complejos con varias expresiones de prueba e instrucciones para ejecutar."
   ]
  },
  {
   "attachments": {},
   "cell_type": "markdown",
   "metadata": {},
   "source": [
    "# Uso de else\n",
    "Sabe que cuando se usa una instrucción if, el cuerpo del programa solo se ejecutará si la expresión de prueba es True. Para agregar más código que se ejecute cuando la expresión de prueba sea False, debe agregar una instrucción else.\n",
    "\n",
    "Ahora se volverá al ejemplo de la sección anterior:"
   ]
  },
  {
   "cell_type": "code",
   "execution_count": null,
   "metadata": {},
   "outputs": [],
   "source": [
    "# En este ejemplo, si a no es mayor o igual que b, no ocurre nada. Imagine que en su lugar quiere imprimir b si la expresión de prueba es False:\n",
    "a = 93\n",
    "b = 23\n",
    "if a >= b:\n",
    "    print(a)\n",
    "else:\n",
    "    print(b)"
   ]
  },
  {
   "attachments": {},
   "cell_type": "markdown",
   "metadata": {},
   "source": [
    "Si la expresión de prueba es False, se omite el código del cuerpo de la instrucción if y el programa continúa ejecutándose desde la instrucción else. La sintaxis de una instrucción if/else siempre es la siguiente:\n",
    "\n",
    "if test_expression:\n",
    "    # statement(s) to be run\n",
    "else:\n",
    "    # statement(s) to be run"
   ]
  },
  {
   "attachments": {},
   "cell_type": "markdown",
   "metadata": {},
   "source": [
    "# Uso de elif\n",
    "En Python, la palabra clave elif es la abreviatura de else if. El uso de instrucciones elif permite agregar varias expresiones de prueba al programa. Estas instrucciones se ejecutan en el orden en que se escriben, por lo que el programa escribirá una instrucción elif solo si la primera instrucción if es False. Por ejemplo:"
   ]
  },
  {
   "cell_type": "code",
   "execution_count": null,
   "metadata": {},
   "outputs": [],
   "source": [
    "a = 97\n",
    "b = 23\n",
    "if  a>=b:\n",
    "    print(\"a es un número más grande\")\n",
    "elif a==b:\n",
    "    print(\"a vale lo mismo que b\")"
   ]
  },
  {
   "attachments": {},
   "cell_type": "markdown",
   "metadata": {},
   "source": [
    "La instrucción elif de este bloque de código no se ejecutará, porque la instrucción if es True.\n",
    "\n",
    "La sintaxis de una instrucción if/elif siempre es la siguiente:\n",
    "\n",
    "if test_expression:\n",
    "    # statement(s) to be run\n",
    "elif test_expression:\n",
    "    # statement(s) to be run"
   ]
  },
  {
   "cell_type": "code",
   "execution_count": null,
   "metadata": {},
   "outputs": [],
   "source": [
    "if test_expression:\n",
    "    # statement(s) to be run\n",
    "elif test_expression:\n",
    "    # statement(s) to be run"
   ]
  },
  {
   "attachments": {},
   "cell_type": "markdown",
   "metadata": {},
   "source": [
    "# Combinación de instrucciones if, elif y else\n",
    "Puede combinar instrucciones if, elif y else para crear programas con lógica condicional compleja. Recuerde que una instrucción elif solo se ejecuta cuando la condición if es false. Tenga en cuenta también que un bloque if solo puede tener un bloque else, pero puede tener varios bloques elif.\n",
    "\n",
    "Ahora se volverá a examinar el ejemplo con una instrucción elif agregada:"
   ]
  },
  {
   "cell_type": "code",
   "execution_count": null,
   "metadata": {},
   "outputs": [],
   "source": [
    "a = 97\n",
    "b = 23\n",
    "if a>b:\n",
    "    print(a)\n",
    "elif a<b:\n",
    "    print (b)\n",
    "else:\n",
    "    print (\"seguramente son iguales\")"
   ]
  },
  {
   "cell_type": "code",
   "execution_count": null,
   "metadata": {},
   "outputs": [],
   "source": [
    "# Un bloque de código que usa los tres tipos de instrucciones tiene la sintaxis siguiente:\n",
    "\n",
    "if test_expression:\n",
    "    # statement(s) to be run\n",
    "elif test_expression:\n",
    "    # statement(s) to be run\n",
    "elif test_expression:\n",
    "    # statement(s) to be run\n",
    "else:\n",
    "    # statement(s) to be run\n",
    "\n"
   ]
  },
  {
   "attachments": {},
   "cell_type": "markdown",
   "metadata": {},
   "source": [
    "# Uso de lógica condicional anidada\n",
    "Python también admite la lógica condicional anidada, lo que significa que puede anidar instrucciones if, elif y else para crear programas aún más complejos. Para anidar condiciones, aplique sangría a las condiciones internas y todo lo que esté en el mismo nivel de sangría se ejecutará en el mismo bloque de código:"
   ]
  },
  {
   "cell_type": "code",
   "execution_count": null,
   "metadata": {},
   "outputs": [],
   "source": [
    "a = 16\n",
    "b = 25\n",
    "c = 27\n",
    "if a > b:\n",
    "    if b > c:\n",
    "        print(\"a es mayor a b y b es mayor a c\")  \n",
    "    else: \n",
    "        print(\"a es mayor a b y b NO es mayor a c\") \n",
    "elif a == b:\n",
    "    print(\"a es igual a b\")\n",
    "else:\n",
    "    print(\"a es menor que b\")"
   ]
  },
  {
   "attachments": {},
   "cell_type": "markdown",
   "metadata": {},
   "source": [
    "Este fragmento de código genera la salida a is less than b.\n",
    "\n",
    "La lógica condicional anidada sigue las mismas reglas que la lógica condicional convencional dentro de cada bloque de código. Este es un ejemplo de la sintaxis:"
   ]
  },
  {
   "cell_type": "code",
   "execution_count": null,
   "metadata": {},
   "outputs": [],
   "source": [
    "if test_expression:\n",
    "    # statement(s) to be run\n",
    "    if test_expression:\n",
    "        # statement(s) to be run\n",
    "    else: \n",
    "        # statement(s) to be run\n",
    "elif test_expression:\n",
    "    # statement(s) to be run\n",
    "    if test_expression:\n",
    "        # statement(s) to be run\n",
    "    else: \n",
    "        # statement(s) to be run\n",
    "else:\n",
    "    # statement(s) to be run"
   ]
  },
  {
   "attachments": {},
   "cell_type": "markdown",
   "metadata": {},
   "source": [
    "\n",
    "# Ejercicio: Usa la lógica para examinar el tamaño de un objeto\n",
    "Comenzará su proyecto creando el código para determinar si una pieza de basura espacial es de un tamaño peligroso. Para este ejercicio usaremos un tamaño arbitrario de 5 metros cúbicos (5m3 ); cualquier cosa más grande es un objeto potencialmente peligroso.\n",
    "\n",
    "Para este paso, se le presentará el objetivo del ejercicio, seguido de una celda vacía. Ingrese su Python en la celda y ejecútelo. La solución está al final del ejercicio.\n",
    "\n",
    "En la celda a continuación, agregue una variable nombrada object_sizey configúrela en 10 para representar 10m3 . Luego agregue una ifdeclaración para probar si object_sizees mayor que 5. Si lo es, muestre un mensaje que diga Necesitamos vigilar este objeto. Si es inferior a 5, muestra un mensaje que dice que el objeto no representa una amenaza."
   ]
  },
  {
   "cell_type": "code",
   "execution_count": null,
   "metadata": {},
   "outputs": [],
   "source": [
    "# Enter code below\n",
    "object_size = 10\n",
    "if object_size > 5:\n",
    "    print(\"Necesitamos vigilar este objeto\")\n",
    "else:\n",
    "    print(\"El objeto no representa una amenaza\")"
   ]
  },
  {
   "attachments": {},
   "cell_type": "markdown",
   "metadata": {},
   "source": [
    "# El operador or\n",
    "Puede conectar dos expresiones booleanas, o de prueba, mediante el operador booleano or. Para que toda la expresión se evalúe como True, al menos una de las subexpresiones debe ser true. Si ninguna de las subexpresiones es true, toda la expresión se evalúa como False. Por ejemplo, en la expresión siguiente, toda la expresión de prueba se evalúa como True, porque se ha cumplido una de las condiciones de las subexpresiones:"
   ]
  },
  {
   "cell_type": "code",
   "execution_count": 25,
   "metadata": {},
   "outputs": [
    {
     "name": "stdout",
     "output_type": "stream",
     "text": [
      "ambos numeros son iguales\n"
     ]
    }
   ],
   "source": [
    "a = 34\n",
    "b = 34\n",
    "if a == 34 or b == 34:\n",
    "    print(\"ambos numeros son iguales\")"
   ]
  },
  {
   "attachments": {},
   "cell_type": "markdown",
   "metadata": {},
   "source": [
    "Si las dos subexpresiones son true, toda la expresión de prueba también se evalúa como True.\n",
    "\n",
    "Una expresión booleana que usa or tiene la sintaxis siguiente:"
   ]
  },
  {
   "cell_type": "code",
   "execution_count": null,
   "metadata": {},
   "outputs": [],
   "source": [
    "sub-expression1 or sub-expression2"
   ]
  },
  {
   "attachments": {},
   "cell_type": "markdown",
   "metadata": {},
   "source": [
    "# El operador and\n",
    "También puede conectar dos expresiones de prueba mediante el operador booleano and. Las dos condiciones de la expresión de prueba deben cumplirse para que toda la expresión de prueba se evalúe como True. En cualquier otro caso, la expresión de prueba es False. En el ejemplo siguiente, toda la expresión de prueba se evalúa como False, porque solo una de las condiciones de las subexpresiones es true:"
   ]
  },
  {
   "cell_type": "code",
   "execution_count": 27,
   "metadata": {},
   "outputs": [
    {
     "name": "stdout",
     "output_type": "stream",
     "text": [
      "75\n"
     ]
    }
   ],
   "source": [
    "a = 30\n",
    "b = 45\n",
    "if a == 30 and b == 45: #True\n",
    "    print(a + b)"
   ]
  },
  {
   "cell_type": "code",
   "execution_count": null,
   "metadata": {},
   "outputs": [],
   "source": [
    "\n",
    "#Una expresión booleana que usa and tiene la sintaxis siguiente:\n",
    "sub-expression1 and sub-expression2"
   ]
  },
  {
   "attachments": {
    "image.png": {
     "image/png": "[encoded data removed]"
    }
   },
   "cell_type": "markdown",
   "metadata": {},
   "source": [
    "# Diferencia entre and y or\n",
    "Para resaltar la diferencia entre los dos operadores booleanos, puede usar una tabla de verdad. Una tabla de verdad muestra cómo se evalúa toda la expresión de prueba en función de las dos subexpresiones.\n",
    "\n",
    "![image.png](attachment:image.png)"
   ]
  },
  {
   "attachments": {},
   "cell_type": "markdown",
   "metadata": {},
   "source": [
    "# Ejercicio: Usa lógica compleja para determinar posibles maniobras evasivas\n",
    "En el ejercicio anterior, creó código para probar el tamaño del objeto. Ahora probará tanto el tamaño como la proximidad del objeto. Usarás el mismo umbral para un tamaño de 5 m.3 . Si el objeto es más grande que el umbral y se encuentra dentro de los 1000 km del barco, se requerirán maniobras evasivas.\n",
    "\n",
    "Para este paso, se le presentará el objetivo del ejercicio, seguido de una celda vacía. Ingrese su Python en la celda y ejecútelo. La solución está al final del ejercicio.\n",
    "\n",
    "Agregue el código a la celda de abajo para crear dos variables: object_sizey proximity. Establecer object_sizeen 10 para representar 10m3 . Establecer proximityen 9000.\n",
    "\n",
    "A continuación, agregue el código para mostrar un mensaje que indique que se requieren maniobras evasivas si ambos object_sizeson mayores que 5 y proximity menores que 1000. De lo contrario, muestre un mensaje que diga que el objeto no representa una amenaza."
   ]
  },
  {
   "cell_type": "code",
   "execution_count": 28,
   "metadata": {},
   "outputs": [
    {
     "name": "stdout",
     "output_type": "stream",
     "text": [
      "El objeto no representa una amenaza\n"
     ]
    }
   ],
   "source": [
    "object_size = 10 \n",
    "proximity = 9000\n",
    "if object_size > 5 and proximity < 1000:\n",
    "    print(\"Se requieren maniobras evasivas\")\n",
    "else:\n",
    "    print(\"El objeto no representa una amenaza\")"
   ]
  }
 ],
 "metadata": {
  "kernelspec": {
   "display_name": "Python 3",
   "language": "python",
   "name": "python3"
  },
  "language_info": {
   "codemirror_mode": {
    "name": "ipython",
    "version": 3
   },
   "file_extension": ".py",
   "mimetype": "text/x-python",
   "name": "python",
   "nbconvert_exporter": "python",
   "pygments_lexer": "ipython3",
   "version": "3.10.7"
  },
  "orig_nbformat": 4
 },
 "nbformat": 4,
 "nbformat_minor": 2
}
