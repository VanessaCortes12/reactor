{
 "cells": [
  {
   "attachments": {},
   "cell_type": "markdown",
   "metadata": {},
   "source": [
    "# Introducción a los diccionarios de Python\n",
    "Las variables de Python pueden almacenar varios tipos de datos. Anteriormente, ha aprendido que puede almacenar cadenas y números:"
   ]
  },
  {
   "cell_type": "code",
   "execution_count": 1,
   "metadata": {},
   "outputs": [],
   "source": [
    "name = 'Tierra'\n",
    "lunas = 1"
   ]
  },
  {
   "attachments": {},
   "cell_type": "markdown",
   "metadata": {},
   "source": [
    "Aunque este método funciona para cantidades más pequeñas de datos, puede ser cada vez más complejo cuando se trabaja con datos relacionados. Imagine que quiere almacenar información sobre las lunas de la Tierra y la Luna."
   ]
  },
  {
   "cell_type": "code",
   "execution_count": 1,
   "metadata": {},
   "outputs": [],
   "source": [
    "tierra_nombre = 'Tierra'\n",
    "tierra_lunas = 1\n",
    "\n",
    "jupiter_nombre = 'Jupiter'\n",
    "jupiter_lunas = 79"
   ]
  },
  {
   "attachments": {},
   "cell_type": "markdown",
   "metadata": {},
   "source": [
    "Observe cómo se duplican las variables con prefijos diferentes. Esta duplicación puede resultar difícil de manejar. Como con frecuencia tendrá que trabajar con conjuntos de datos relacionados, como el promedio de precipitaciones durante varios meses en distintas ciudades, almacenar estas variables como valores individuales no es una opción viable. Alternativamente, puede usar diccionarios de Python.\n",
    "\n",
    "Los diccionarios de Python permiten trabajar con conjuntos de datos relacionados. Un diccionario es una colección de pares clave-valor. Piense que es como un grupo de variables dentro de un contenedor, donde la clave es el nombre de la variable y el valor es el valor almacenado en su interior."
   ]
  },
  {
   "cell_type": "code",
   "execution_count": null,
   "metadata": {},
   "outputs": [],
   "source": [
    "#Diccionario = Contenedor de valores\n"
   ]
  },
  {
   "attachments": {},
   "cell_type": "markdown",
   "metadata": {},
   "source": [
    "# Creación de un diccionario\n",
    "Python usa llaves ({ }) y dos puntos (:) para indicar un diccionario. Puede crear un diccionario vacío y agregar valores más adelante, o bien rellenarlo en el momento de la creación. Cada clave o valor está separado por dos puntos y el nombre de cada clave se incluye entre comillas como un literal de cadena. Como la clave es un literal de cadena, puede usar el nombre que sea adecuado para describir el valor.\n",
    "\n",
    "Ahora se creará un diccionario para almacenar el nombre del planeta Tierra y el número de lunas que tiene:|"
   ]
  },
  {
   "cell_type": "code",
   "execution_count": 3,
   "metadata": {},
   "outputs": [],
   "source": [
    "planeta =  {\n",
    "    'nombre' : 'Tierra',\n",
    "    'lunas' : 1\n",
    "}"
   ]
  },
  {
   "attachments": {},
   "cell_type": "markdown",
   "metadata": {},
   "source": [
    "Tiene dos claves, 'name' y 'moons'. Cada clave se comporta igual que una variable: tienen un nombre único y almacenan un valor. Pero se incluyen dentro de una única variable más grande, denominada planet.\n",
    "\n",
    "Como sucede con las variables convencionales, debe asegurarse de que usa los tipos de datos correctos. En el valor moons de 1 en el ejemplo anterior, no se han incluido comillas alrededor del número, porque se quiere usar un entero. Si hubiera usado '1', Python vería esta variable como una cadena, lo que afectaría a la capacidad de realizar cálculos.\n",
    "\n",
    "A diferencia de las variables convencionales, los nombres de clave no necesitan seguir las reglas de nomenclatura estándar para Python. Puede usar nombre clave para que sea más descriptivo en el código."
   ]
  },
  {
   "attachments": {},
   "cell_type": "markdown",
   "metadata": {},
   "source": [
    "# Lectura de valores de diccionario\n",
    "Puede leer valores dentro de un diccionario. Los objetos de diccionario tienen un método get que puede usar para acceder a un valor mediante su clave. Si quiere imprimir name, puede usar el código siguiente:"
   ]
  },
  {
   "cell_type": "code",
   "execution_count": 4,
   "metadata": {},
   "outputs": [
    {
     "name": "stdout",
     "output_type": "stream",
     "text": [
      "Tierra\n"
     ]
    }
   ],
   "source": [
    "print(planeta.get('nombre')) #Con comillas"
   ]
  },
  {
   "attachments": {},
   "cell_type": "markdown",
   "metadata": {},
   "source": [
    "Como podría sospechar, el acceso a los valores de un diccionario es una operación común. Afortunadamente, hay un acceso directo. También puede pasar la clave entre corchetes ([ ]). Este método usa menos código que get y la mayoría de los programadores utilizan esta sintaxis en su lugar. Puede volver a escribir el ejemplo anterior mediante lo siguiente:"
   ]
  },
  {
   "cell_type": "code",
   "execution_count": 5,
   "metadata": {},
   "outputs": [
    {
     "name": "stdout",
     "output_type": "stream",
     "text": [
      "Tierra\n"
     ]
    }
   ],
   "source": [
    "print(planeta[\"nombre\"]) #Usando corchetes"
   ]
  },
  {
   "attachments": {},
   "cell_type": "markdown",
   "metadata": {},
   "source": [
    "Aunque el comportamiento de get y los corchetes ([ ]) suele ser el mismo para recuperar elementos, hay una diferencia principal. Si una clave no está disponible, get devuelve None y [ ] genera un error KeyError."
   ]
  },
  {
   "cell_type": "code",
   "execution_count": 7,
   "metadata": {},
   "outputs": [
    {
     "ename": "KeyError",
     "evalue": "'wibble'",
     "output_type": "error",
     "traceback": [
      "\u001b[1;31m---------------------------------------------------------------------------\u001b[0m",
      "\u001b[1;31mKeyError\u001b[0m                                  Traceback (most recent call last)",
      "\u001b[1;32md:\\Archivos personales\\MES DE DATOS\\demoreactor\\diccionarios.ipynb Celda 15\u001b[0m in \u001b[0;36m<module>\u001b[1;34m\u001b[0m\n\u001b[0;32m      <a href='vscode-notebook-cell:/d%3A/Archivos%20personales/MES%20DE%20DATOS/demoreactor/diccionarios.ipynb#X20sZmlsZQ%3D%3D?line=0'>1</a>\u001b[0m wibble1 \u001b[39m=\u001b[39m planeta\u001b[39m.\u001b[39mget(\u001b[39m'\u001b[39m\u001b[39mwibble\u001b[39m\u001b[39m'\u001b[39m) \u001b[39m# Returns None\u001b[39;00m\n\u001b[1;32m----> <a href='vscode-notebook-cell:/d%3A/Archivos%20personales/MES%20DE%20DATOS/demoreactor/diccionarios.ipynb#X20sZmlsZQ%3D%3D?line=1'>2</a>\u001b[0m wibble2 \u001b[39m=\u001b[39m planeta[\u001b[39m'\u001b[39;49m\u001b[39mwibble\u001b[39;49m\u001b[39m'\u001b[39;49m] \u001b[39m# Throws KeyError\u001b[39;00m\n\u001b[0;32m      <a href='vscode-notebook-cell:/d%3A/Archivos%20personales/MES%20DE%20DATOS/demoreactor/diccionarios.ipynb#X20sZmlsZQ%3D%3D?line=3'>4</a>\u001b[0m \u001b[39mprint\u001b[39m(wibble1)\n\u001b[0;32m      <a href='vscode-notebook-cell:/d%3A/Archivos%20personales/MES%20DE%20DATOS/demoreactor/diccionarios.ipynb#X20sZmlsZQ%3D%3D?line=4'>5</a>\u001b[0m \u001b[39mprint\u001b[39m(wibble2)\n",
      "\u001b[1;31mKeyError\u001b[0m: 'wibble'"
     ]
    }
   ],
   "source": [
    "wibble1 = planeta.get('wibble') # Returns None\n",
    "wibble2 = planeta['wibble'] # Throws KeyError\n",
    "\n",
    "print(wibble1)\n",
    "print(wibble2)\n"
   ]
  },
  {
   "attachments": {},
   "cell_type": "markdown",
   "metadata": {},
   "source": [
    "# Modificación de valores de diccionario\n",
    "También puede modificar valores dentro de un objeto de diccionario, con el método update. Este método acepta un diccionario como parámetro y actualiza los valores existentes con los nuevos que proporcione. Si quiere cambiar name para el diccionario planet, puede usar lo siguiente, por ejemplo:"
   ]
  },
  {
   "attachments": {},
   "cell_type": "markdown",
   "metadata": {},
   "source": [
    "También puede modificar valores dentro de un objeto de diccionario, con el método update. Este método acepta un diccionario como parámetro y actualiza los valores existentes con los nuevos que proporcione. Si quiere cambiar name para el diccionario planet, puede usar lo siguiente, por ejemplo:"
   ]
  },
  {
   "cell_type": "code",
   "execution_count": 8,
   "metadata": {},
   "outputs": [
    {
     "name": "stdout",
     "output_type": "stream",
     "text": [
      "Planeta azul\n",
      "Planeta azul\n"
     ]
    }
   ],
   "source": [
    "planeta.update({\"nombre\" : \"Planeta azul\"})\n",
    "\n",
    "print(planeta.get(\"nombre\"))\n",
    "print(planeta[\"nombre\"])"
   ]
  },
  {
   "attachments": {},
   "cell_type": "markdown",
   "metadata": {},
   "source": [
    "Al igual que se usa el acceso directo de corchetes ([ ]) para leer valores, se puede utilizar para modificar valores. La principal diferencia en la sintaxis es que se usa = (a veces denominado operador de asignación) para proporcionar un nuevo valor. Para volver a escribir el ejemplo anterior y cambiar el nombre, puede usar lo siguiente:"
   ]
  },
  {
   "cell_type": "code",
   "execution_count": 9,
   "metadata": {},
   "outputs": [
    {
     "name": "stdout",
     "output_type": "stream",
     "text": [
      "Tierra\n"
     ]
    }
   ],
   "source": [
    "planeta[\"nombre\"] = \"Tierra\"\n",
    "print(planeta[\"nombre\"])"
   ]
  },
  {
   "attachments": {},
   "cell_type": "markdown",
   "metadata": {},
   "source": [
    "La principal ventaja de usar update es la capacidad de modificar varios valores en una operación. Los dos ejemplos siguientes son lógicamente los mismos, pero la sintaxis es diferente. Puede usar la sintaxis que crea más adecuada. La mayoría de los desarrolladores eligen corchetes para actualizar valores individuales.\n",
    "\n",
    "En el ejemplo siguiente se hacen las mismas modificaciones en la variable planet y se actualizan el nombre y las lunas. Tenga en cuenta que al usar update realiza una sola llamada a la función, mientras que el uso de corchetes implica dos llamadas."
   ]
  },
  {
   "cell_type": "code",
   "execution_count": 10,
   "metadata": {},
   "outputs": [],
   "source": [
    "# Using update\n",
    "planeta.update({\n",
    "    'nombre': 'Jupiter',\n",
    "    'lunas': 79\n",
    "})\n",
    "\n",
    "# Using square brackets\n",
    "planeta['nombre'] = 'Jupiter'\n",
    "planeta['lunas'] = 79"
   ]
  },
  {
   "attachments": {},
   "cell_type": "markdown",
   "metadata": {},
   "source": [
    "# Adición y eliminación de claves\n",
    "No es necesario crear todas las claves al inicializar un diccionario. De hecho, no es necesario crear ninguna. Siempre que quiera crear una clave, asígnela como haría con una existente.\n",
    "\n",
    "Imagine que quiere actualizar planet para incluir el período orbital en días:"
   ]
  },
  {
   "cell_type": "code",
   "execution_count": 11,
   "metadata": {},
   "outputs": [],
   "source": [
    "planeta['periodo de orbita'] = 4333\n",
    "\n",
    "# planet dictionary now contains: {\n",
    "#   name: 'jupiter'\n",
    "#   moons: 79\n",
    "#   orbital period: 4333\n",
    "# }"
   ]
  },
  {
   "attachments": {},
   "cell_type": "markdown",
   "metadata": {},
   "source": [
    "# Importante\n",
    "\n",
    "Los nombres de clave, como todo lo demás en Python, distinguen mayúsculas de minúsculas. Como resultado, 'name' y 'Name' se consideran dos claves independientes en un diccionario de Python."
   ]
  },
  {
   "attachments": {},
   "cell_type": "markdown",
   "metadata": {},
   "source": [
    "Para quitar una clave, use pop. pop devuelve el valor y quita la clave del diccionario. Para quitar orbital period, puede usar el código siguiente:"
   ]
  },
  {
   "cell_type": "code",
   "execution_count": 12,
   "metadata": {},
   "outputs": [
    {
     "data": {
      "text/plain": [
       "4333"
      ]
     },
     "execution_count": 12,
     "metadata": {},
     "output_type": "execute_result"
    }
   ],
   "source": [
    "planeta.pop('periodo de orbita')\n",
    "\n",
    "# planet dictionary now contains: {\n",
    "#   name: 'jupiter'\n",
    "#   moons: 79\n",
    "# }"
   ]
  },
  {
   "attachments": {},
   "cell_type": "markdown",
   "metadata": {},
   "source": [
    "# Tipos de data complejos\n",
    "Los diccionarios pueden almacenar cualquier tipo de valor, incluidos otros diccionarios. Esto le permite modelar datos complejos según sea necesario. Imagine que tiene que almacenar el diámetro de planet, que se podría medir alrededor de su ecuador o los polos. Puede crear otro diccionario dentro de planet para almacenar esta información:"
   ]
  },
  {
   "cell_type": "code",
   "execution_count": 13,
   "metadata": {},
   "outputs": [],
   "source": [
    "# Add address\n",
    "planeta['diameter (km)'] = {\n",
    "    'polar': 133709,\n",
    "    'equatorial': 142984\n",
    "}\n",
    "\n",
    "# planet dictionary now contains: {\n",
    "#   name: 'Jupiter'\n",
    "#   moons: 79\n",
    "#   diameter (km): {\n",
    "#      polar: 133709\n",
    "#      equatorial: 142984\n",
    "#   }\n",
    "# }"
   ]
  },
  {
   "attachments": {},
   "cell_type": "markdown",
   "metadata": {},
   "source": [
    "Para recuperar valores en un diccionario anidado, debe encadenar corchetes o llamadas a get."
   ]
  },
  {
   "cell_type": "code",
   "execution_count": 16,
   "metadata": {},
   "outputs": [
    {
     "name": "stdout",
     "output_type": "stream",
     "text": [
      "Jupiter polar diameter: 133709\n"
     ]
    }
   ],
   "source": [
    "print(f'{planeta[\"nombre\"]} polar diameter: {planeta[\"diameter (km)\"][\"polar\"]}')\n",
    "\n",
    "# Output: Jupiter polar diameter: 133709"
   ]
  },
  {
   "attachments": {},
   "cell_type": "markdown",
   "metadata": {},
   "source": [
    "# Ejercicio: Crear y modificar un diccionario de Python\n",
    "Los diccionarios de Python le permiten modelar datos más complejos. Los diccionarios son una colección de pares clave/valor y son muy comunes en los programas de Python. Su flexibilidad le permite trabajar dinámicamente con valores relacionados sin tener que crear clases u objetos.\n",
    "\n",
    "Este ejercicio se divide en una serie de pasos. Para cada paso, se le presentará el objetivo del paso, seguido de una celda vacía. Ingrese su Python en la celda y ejecútelo. La solución para cada paso seguirá a cada celda.\n",
    "\n",
    "Gestión de datos del planeta\n",
    "Desea crear un programa que almacene y muestre información sobre los planetas. Para empezar, usarás un planeta. Cree una variable llamada planet. Almacene los siguientes valores como un diccionario:"
   ]
  },
  {
   "cell_type": "code",
   "execution_count": 20,
   "metadata": {},
   "outputs": [],
   "source": [
    "# Enter code below\n",
    "planeta = {\n",
    "    'nombre' : 'Tierra',\n",
    "    'lunas' : 1\n",
    "}"
   ]
  },
  {
   "attachments": {},
   "cell_type": "markdown",
   "metadata": {},
   "source": [
    "# Mostrar datos del planeta\n",
    "Con la variable creada, ahora mostrará información. Puede recuperar información utilizando getcorchetes ( [ ]) y el nombre de la clave. Agregue el código para mostrar la información del planeta en el siguiente formato:\n",
    "\n",
    "tiene luna(s)\n",
    "\n",
    "Si estuviera trabajando con la Tierra, el resultado sería que la Tierra tiene 1 luna(s)"
   ]
  },
  {
   "cell_type": "code",
   "execution_count": 21,
   "metadata": {},
   "outputs": [
    {
     "name": "stdout",
     "output_type": "stream",
     "text": [
      "Tierra tiene 1 lunas(S)\n"
     ]
    }
   ],
   "source": [
    "# Enter code below\n",
    "print(f'{planeta[\"nombre\"]} tiene {planeta[\"lunas\"]} lunas(S)')"
   ]
  },
  {
   "attachments": {},
   "cell_type": "markdown",
   "metadata": {},
   "source": [
    "\n",
    "# Agregar información de circunferencia\n",
    "Puede actualizar las claves existentes o crear nuevas usando el updatemétodo o usando corchetes ( [ ]). Cuando usa update, pasa un nuevo objeto de diccionario con los valores actualizados o nuevos. Cuando usa corchetes, especifica el nombre de la clave y asigna un nuevo valor.\n",
    "\n",
    "Agregue un nuevo valor a planetcon una clave de 'circumference (km)'. Este nuevo valor debería almacenar un diccionario con las dos circunferencias del planeta:\n",
    "polar: 6752\n",
    "equatorial: 6792\n"
   ]
  },
  {
   "cell_type": "code",
   "execution_count": 22,
   "metadata": {},
   "outputs": [
    {
     "name": "stdout",
     "output_type": "stream",
     "text": [
      "Tierra tiene una circunferencia polar de: 6752\n"
     ]
    }
   ],
   "source": [
    "# Enter code below\n",
    "planeta['circunferencia(km)'] = {\n",
    "    'polar' : 6752,\n",
    "    'equatorial' : 6792\n",
    "}\n",
    "\n",
    "print(f'{planeta[\"nombre\"]} tiene una circunferencia polar de: {planeta[\"circunferencia(km)\"] [\"polar\"]}')"
   ]
  },
  {
   "attachments": {},
   "cell_type": "markdown",
   "metadata": {},
   "source": [
    "# Programación dinámica con diccionarios\n",
    "\n",
    "En el programa, quiere realizar varios cálculos, como el del número total de lunas. Además, a medida que progrese en programación más avanzada, es posible que compruebe que carga este tipo de información desde archivos o una base de datos, en lugar de programar directamente en Python.\n",
    "\n",
    "Para ayudar a admitir estos escenarios, Python le permite tratar las claves y los valores dentro de un diccionario como una lista. Puede determinar de manera dinámica las claves y los valores, y realizar varios cálculos.\n",
    "\n",
    "Imagine un diccionario en el que se almacenan cantidades mensuales de precipitaciones. Es probable que tenga claves para cada mes y las precipitaciones asociadas. Quiere sumar el total de precipitaciones y escribir el código para realizar la operación mediante cada clave individual sería bastante tedioso."
   ]
  },
  {
   "attachments": {},
   "cell_type": "markdown",
   "metadata": {},
   "source": [
    "# Recuperación de todas las claves y valores\n",
    "El método keys() devuelve un objeto de lista que contiene todas las claves. Puede usar este método para iterar por todos los elementos del diccionario.\n",
    "\n",
    "Imagine que tiene el siguiente diccionario, en el que se almacenan los últimos tres meses de precipitaciones."
   ]
  },
  {
   "cell_type": "code",
   "execution_count": 23,
   "metadata": {},
   "outputs": [],
   "source": [
    "rainfall = {\n",
    "    'october': 3.5,\n",
    "    'november': 4.2,\n",
    "    'december': 2.1\n",
    "}"
   ]
  },
  {
   "cell_type": "code",
   "execution_count": 24,
   "metadata": {},
   "outputs": [
    {
     "name": "stdout",
     "output_type": "stream",
     "text": [
      "october: 3.5cm\n",
      "november: 4.2cm\n",
      "december: 2.1cm\n"
     ]
    }
   ],
   "source": [
    "# Imagine que quiere mostrar la lista de todas las precipitaciones. Puede escribir el nombre de cada mes, pero resultará tedioso.\n",
    "for key in rainfall.keys():\n",
    "    print(f'{key}: {rainfall[key]}cm')\n"
   ]
  },
  {
   "attachments": {},
   "cell_type": "markdown",
   "metadata": {},
   "source": [
    " Nota\n",
    "\n",
    "Todavía puede usar corchetes ([ ]) con un nombre de variable, en lugar del literal de cadena codificado de forma rígida."
   ]
  },
  {
   "attachments": {},
   "cell_type": "markdown",
   "metadata": {},
   "source": [
    "# Determinación de la existencia de una clave en un diccionario\n",
    "Al actualizar un valor en un diccionario, Python sobrescribirá el valor existente o creará uno, si la clave no existe. Si quiere agregar a un valor en lugar de sobrescribirlo, puede comprobar si la clave existe mediante in. Por ejemplo, si quiere agregar un valor a diciembre o crear uno si no existe, puede usar lo siguiente:"
   ]
  },
  {
   "cell_type": "code",
   "execution_count": 25,
   "metadata": {},
   "outputs": [
    {
     "name": "stdout",
     "output_type": "stream",
     "text": [
      "{'october': 3.5, 'november': 4.2, 'december': 3.1}\n"
     ]
    }
   ],
   "source": [
    "if 'december' in rainfall:\n",
    "    rainfall['december'] = rainfall['december'] + 1\n",
    "else:\n",
    "    rainfall['december'] = 1\n",
    "\n",
    "print(rainfall)"
   ]
  },
  {
   "attachments": {},
   "cell_type": "markdown",
   "metadata": {},
   "source": [
    "# Recuperación de todos los valores\n",
    "De forma similar a keys(), values() devuelve la lista de todos los valores de un diccionario sin sus claves correspondientes. values() puede resultar útil cuando se usa la clave con fines de etiquetado, como en el ejemplo anterior, en el que las claves son el nombre del mes. Puede usar para values() determinar el importe total de las precipitaciones:"
   ]
  },
  {
   "cell_type": "code",
   "execution_count": 26,
   "metadata": {},
   "outputs": [
    {
     "name": "stdout",
     "output_type": "stream",
     "text": [
      "There was 10.8cm in the last quarter\n"
     ]
    }
   ],
   "source": [
    "total_rainfall = 0\n",
    "for value in rainfall.values():\n",
    "    total_rainfall = total_rainfall + value\n",
    "\n",
    "print(f'There was {total_rainfall}cm in the last quarter')\n",
    "\n",
    "# Output:\n",
    "# There was 10.8cm in the last quarter"
   ]
  },
  {
   "attachments": {
    "image.png": {
     "image/png": "[encoded data removed]"
    }
   },
   "cell_type": "markdown",
   "metadata": {},
   "source": [
    "# Ejercicio: Programación dinámica con diccionarios\n",
    "\n",
    "Cálculo de valores\n",
    "En este escenario, calculará tanto la cantidad total de lunas en el sistema solar como la cantidad promedio de lunas que tiene un planeta. Para ello, utilice un objeto de diccionario.\n",
    "\n",
    "Este ejercicio se divide en una serie de pasos. Para cada paso, se le presentará el objetivo del paso, seguido de una celda vacía. Ingrese su Python en la celda y ejecútelo. La solución para cada paso seguirá a cada celda.\n",
    "\n",
    "Comience creando una variable nombrada planet_moonscomo un diccionario con los siguientes valores/clave:\n",
    "\n",
    "![image.png](attachment:image.png)"
   ]
  },
  {
   "cell_type": "code",
   "execution_count": 27,
   "metadata": {},
   "outputs": [],
   "source": [
    "# Enter the code below\n",
    "planet_moons = {\n",
    "    'mercury': 0,\n",
    "    'venus': 0,\n",
    "    'earth': 1,\n",
    "    'mars': 2,\n",
    "    'jupiter': 79,\n",
    "    'saturn': 82,\n",
    "    'uranus': 27,\n",
    "    'neptune': 14,\n",
    "    'pluto': 5,\n",
    "    'haumea': 2,\n",
    "    'makemake': 1,\n",
    "    'eris': 1\n",
    "}"
   ]
  },
  {
   "attachments": {},
   "cell_type": "markdown",
   "metadata": {},
   "source": [
    "\n",
    "# Obtener una lista de lunas y número de planetas\n",
    "Los diccionarios de Python le permiten recuperar todos los valores y claves utilizando los métodos valuesy keys, respectivamente. Cada método devuelve una lista que contiene los datos, que luego se pueden usar como una lista normal de Python. Puede determinar la cantidad de elementos usando lene iterarlo usando forbucles. En el diccionario que creaste, los nombres de los planetas son claves y el número de lunas son los valores.\n",
    "\n",
    "Comience recuperando una lista con el número de lunas y guárdela en una variable llamada moons. Luego obtenga el número total de planetas y almacene ese valor en una variable llamada total_planets."
   ]
  },
  {
   "cell_type": "code",
   "execution_count": 29,
   "metadata": {},
   "outputs": [
    {
     "name": "stdout",
     "output_type": "stream",
     "text": [
      "dict_values([0, 0, 1, 2, 79, 82, 27, 14, 5, 2, 1, 1])\n",
      "12\n"
     ]
    }
   ],
   "source": [
    "# Enter code \n",
    "moons = planet_moons.values()\n",
    "print(moons)\n",
    "\n",
    "total_planets = len(planet_moons.keys())\n",
    "print(total_planets)"
   ]
  },
  {
   "attachments": {},
   "cell_type": "markdown",
   "metadata": {},
   "source": [
    "\n",
    "# Determinar el número promedio de lunas.\n",
    "Terminarás este ejercicio determinando el número promedio de lunas. Comience creando una variable llamada total_moons; este será su contador para el número total de lunas. Luego agregue un forciclo para recorrer la lista de moons, agregando cada valor a total_moons. Finalmente, calcule el promedio dividiendo total_moonspor total_planets y mostrando el valor."
   ]
  },
  {
   "cell_type": "code",
   "execution_count": 32,
   "metadata": {},
   "outputs": [
    {
     "name": "stdout",
     "output_type": "stream",
     "text": [
      "Each planet has an average, 17.833333333333332 moons\n"
     ]
    }
   ],
   "source": [
    "total_moons = 0\n",
    "for x in moons:\n",
    "    total_moons = total_moons + x\n",
    "\n",
    "average = total_moons / total_planets\n",
    "\n",
    "print(f'Each planet has an average, {average} moons')"
   ]
  }
 ],
 "metadata": {
  "kernelspec": {
   "display_name": "Python 3",
   "language": "python",
   "name": "python3"
  },
  "language_info": {
   "codemirror_mode": {
    "name": "ipython",
    "version": 3
   },
   "file_extension": ".py",
   "mimetype": "text/x-python",
   "name": "python",
   "nbconvert_exporter": "python",
   "pygments_lexer": "ipython3",
   "version": "3.10.7"
  },
  "orig_nbformat": 4
 },
 "nbformat": 4,
 "nbformat_minor": 2
}
